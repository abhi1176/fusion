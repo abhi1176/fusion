{
 "cells": [
  {
   "cell_type": "code",
   "execution_count": 1,
   "metadata": {},
   "outputs": [],
   "source": [
    "import numpy as np\n",
    "import os\n",
    "import random\n",
    "import tensorflow as tf\n",
    "\n",
    "from tensorflow.keras.layers import Input, Conv2D, MaxPool2D, Dropout, Flatten, Dense, LSTM\n",
    "from tensorflow.keras.models import Model\n",
    "from tensorflow.keras.preprocessing.image import ImageDataGenerator\n",
    "from tensorflow.keras.optimizers import Adam\n",
    "from tensorflow.keras.utils import to_categorical\n",
    "\n",
    "from scipy.io import wavfile\n",
    "from glob import glob\n",
    "from python_speech_features import mfcc"
   ]
  },
  {
   "cell_type": "code",
   "execution_count": 2,
   "metadata": {},
   "outputs": [],
   "source": [
    "input_dir = \"speaker\"\n",
    "train_batch_size = 32\n",
    "val_batch_size = 8\n",
    "labels = os.listdir(input_dir)"
   ]
  },
  {
   "cell_type": "code",
   "execution_count": 3,
   "metadata": {},
   "outputs": [],
   "source": [
    "nfilt = 26\n",
    "nfeat = 13\n",
    "nfft = 512\n",
    "rate = 16000\n",
    "step = rate // 10"
   ]
  },
  {
   "cell_type": "code",
   "execution_count": 12,
   "metadata": {},
   "outputs": [],
   "source": [
    "def features_from_txt(filename):\n",
    "    folder = os.path.basename(os.path.dirname(filename))\n",
    "    rate, wav = wavfile.read(filename)\n",
    "    print(rate)\n",
    "    rand_index = np.random.randint(0, wav.shape[0] - step)\n",
    "    sample = wav[rand_index:rand_index+step]\n",
    "    X_sample = mfcc(sample, rate, numcep=nfeat, nfilt=nfilt, nfft=nfft).T\n",
    "    label = to_categorical(labels.index(folder), num_classes=len(labels))\n",
    "#     print(wav.shape, sample.shape, X_sample.shape, label.shape)\n",
    "    return (X_sample, label)"
   ]
  },
  {
   "cell_type": "code",
   "execution_count": 13,
   "metadata": {},
   "outputs": [
    {
     "name": "stdout",
     "output_type": "stream",
     "text": [
      "16000\n"
     ]
    },
    {
     "data": {
      "text/plain": [
       "(array([[ 17.20212216,  16.18201001,  14.36013758,  14.31932577,\n",
       "          14.02138442,  15.11083149,  16.51404539,  16.6281437 ,\n",
       "          16.37586967],\n",
       "        [  2.21003638,   9.79423227,  14.66857306,  16.7935322 ,\n",
       "          16.22336886,  -6.07962933, -17.84182769, -12.38856308,\n",
       "          -1.95439081],\n",
       "        [-15.42852318,  -9.96046046,   4.73986217,   5.715574  ,\n",
       "           6.96967526,   4.5895705 ,  -1.40836829,   0.5849926 ,\n",
       "          -5.16731947],\n",
       "        [ 13.95063507,  28.15455247,  13.6929731 ,  10.60649096,\n",
       "          15.47630398,  12.15249717,  -0.56541711,  -2.0362923 ,\n",
       "          -3.97100303],\n",
       "        [-20.25070397, -19.81496733,  -5.15873154,  -3.95465475,\n",
       "          -4.25719681, -15.20619317, -17.64015345, -23.86790106,\n",
       "         -18.84739228],\n",
       "        [-41.38303434, -34.02797722, -23.09328708, -27.18243059,\n",
       "         -32.28009428,  11.0789619 ,   4.9305127 ,  -5.70873505,\n",
       "         -24.41232356],\n",
       "        [-35.75638352, -23.83145243, -22.53328586, -21.29460737,\n",
       "         -23.10951199, -20.02638192, -19.90291201, -29.93588288,\n",
       "         -34.2034801 ],\n",
       "        [ -1.81363442,  12.22947   ,   6.27224486,  11.77195981,\n",
       "          13.59032278,   9.14273605,   9.15875444,   4.23428399,\n",
       "          12.61248237],\n",
       "        [-16.80439186,  -1.60300503,  -7.89702412,  -3.73028932,\n",
       "          -6.05757889,  -8.7641532 , -21.01694419, -19.35553118,\n",
       "          -9.77250896],\n",
       "        [-42.15094294, -31.91977353, -22.05341631, -26.29422596,\n",
       "         -30.79473828,  -0.09186207,  -9.23496026,  -7.85047679,\n",
       "           2.66877488],\n",
       "        [ 11.01169132,   8.33213116, -14.53103933,  -8.84810715,\n",
       "          -7.14844358,  -4.28673193,  -5.64768821,  -7.96482051,\n",
       "         -15.1307422 ],\n",
       "        [  7.49350193,  -0.50701189, -17.04599597, -14.21985114,\n",
       "         -11.78027083,  -9.64979436,  -4.52517211,  -3.20772921,\n",
       "          10.1530154 ],\n",
       "        [ -0.19585467,   0.71417609, -16.20331682, -20.67579144,\n",
       "         -22.89236236, -15.09609679, -13.92268449,  -8.51477032,\n",
       "          -1.27439886]]),\n",
       " array([1., 0., 0., 0., 0., 0., 0., 0., 0., 0., 0., 0., 0., 0., 0., 0., 0.,\n",
       "        0., 0., 0.], dtype=float32))"
      ]
     },
     "execution_count": 13,
     "metadata": {},
     "output_type": "execute_result"
    }
   ],
   "source": [
    "features_from_txt(\"speaker/0016/00003.wav\")"
   ]
  },
  {
   "cell_type": "code",
   "execution_count": 6,
   "metadata": {},
   "outputs": [],
   "source": [
    "def generate_data(input_dir, shuffle=False):\n",
    "    files = glob(os.path.join(input_dir, \"*\", \"*\"))\n",
    "    random.shuffle(files)\n",
    "    n = len(files)\n",
    "    def fetch():\n",
    "        i = 0\n",
    "        while True:\n",
    "            if shuffle:\n",
    "                file = random.choice(files)\n",
    "            else:\n",
    "                file = files[i]\n",
    "                i = (i+1)%n\n",
    "            yield features_from_txt(file)\n",
    "    return fetch"
   ]
  },
  {
   "cell_type": "code",
   "execution_count": 7,
   "metadata": {},
   "outputs": [],
   "source": [
    "def audio_model():\n",
    "    x1 = Input(shape=(13, 9), name='audio_input')\n",
    "    x = LSTM(128, return_sequences=True)(x1)\n",
    "    x = LSTM(64)(x)\n",
    "    x = Dense(20, activation='softmax',name='audio_output')(x)\n",
    "    return Model(inputs=x1, outputs=x)"
   ]
  },
  {
   "cell_type": "code",
   "execution_count": 8,
   "metadata": {},
   "outputs": [
    {
     "name": "stdout",
     "output_type": "stream",
     "text": [
      "(32, 13, 9) (32, 20)\n"
     ]
    }
   ],
   "source": [
    "batch_size = 32\n",
    "dataset = tf.data.Dataset.from_generator(generate_data(input_dir), output_types=(tf.float64, tf.uint8), output_shapes=((13, 9), (20,)))\n",
    "dataset = dataset.batch(batch_size)\n",
    "for d in dataset.take(1):\n",
    "    print(d[0].shape, d[1].shape)"
   ]
  },
  {
   "cell_type": "code",
   "execution_count": 9,
   "metadata": {},
   "outputs": [
    {
     "name": "stdout",
     "output_type": "stream",
     "text": [
      "Train for 20 steps\n",
      "Epoch 1/50\n",
      "20/20 [==============================] - 8s 403ms/step - loss: 3.0006 - accuracy: 0.0625\n",
      "Epoch 2/50\n",
      "20/20 [==============================] - 2s 99ms/step - loss: 2.9956 - accuracy: 0.0516\n",
      "Epoch 3/50\n",
      "20/20 [==============================] - 2s 99ms/step - loss: 2.9882 - accuracy: 0.0594\n",
      "Epoch 4/50\n",
      "20/20 [==============================] - 2s 98ms/step - loss: 2.9662 - accuracy: 0.0859\n",
      "Epoch 5/50\n",
      "20/20 [==============================] - 2s 98ms/step - loss: 2.9607 - accuracy: 0.0688\n",
      "Epoch 6/50\n",
      "20/20 [==============================] - 2s 98ms/step - loss: 2.9540 - accuracy: 0.0906\n",
      "Epoch 7/50\n",
      "20/20 [==============================] - 2s 99ms/step - loss: 2.9466 - accuracy: 0.0891\n",
      "Epoch 8/50\n",
      "20/20 [==============================] - 2s 98ms/step - loss: 2.9432 - accuracy: 0.0719\n",
      "Epoch 9/50\n",
      "20/20 [==============================] - 2s 98ms/step - loss: 2.9305 - accuracy: 0.0969\n",
      "Epoch 10/50\n",
      "20/20 [==============================] - 2s 99ms/step - loss: 2.9303 - accuracy: 0.1078\n",
      "Epoch 11/50\n",
      "20/20 [==============================] - 2s 99ms/step - loss: 2.8917 - accuracy: 0.1234\n",
      "Epoch 12/50\n",
      "20/20 [==============================] - 2s 99ms/step - loss: 2.9123 - accuracy: 0.0922\n",
      "Epoch 13/50\n",
      "20/20 [==============================] - 2s 98ms/step - loss: 2.8805 - accuracy: 0.1063\n",
      "Epoch 14/50\n",
      "20/20 [==============================] - 2s 100ms/step - loss: 2.8609 - accuracy: 0.1453\n",
      "Epoch 15/50\n",
      "20/20 [==============================] - 2s 99ms/step - loss: 2.8708 - accuracy: 0.1266\n",
      "Epoch 16/50\n",
      "20/20 [==============================] - 2s 100ms/step - loss: 2.8546 - accuracy: 0.1344\n",
      "Epoch 17/50\n",
      "20/20 [==============================] - 2s 98ms/step - loss: 2.8285 - accuracy: 0.1141\n",
      "Epoch 18/50\n",
      "20/20 [==============================] - 2s 99ms/step - loss: 2.7962 - accuracy: 0.1469\n",
      "Epoch 19/50\n",
      "20/20 [==============================] - 2s 99ms/step - loss: 2.8263 - accuracy: 0.1437\n",
      "Epoch 20/50\n",
      "20/20 [==============================] - 2s 99ms/step - loss: 2.8111 - accuracy: 0.1187\n",
      "Epoch 21/50\n",
      "20/20 [==============================] - 2s 100ms/step - loss: 2.7646 - accuracy: 0.1359\n",
      "Epoch 22/50\n",
      "20/20 [==============================] - 2s 99ms/step - loss: 2.7364 - accuracy: 0.1562\n",
      "Epoch 23/50\n",
      "20/20 [==============================] - 2s 99ms/step - loss: 2.7741 - accuracy: 0.1219\n",
      "Epoch 24/50\n",
      "20/20 [==============================] - 2s 99ms/step - loss: 2.7459 - accuracy: 0.1422\n",
      "Epoch 25/50\n",
      "20/20 [==============================] - 2s 99ms/step - loss: 2.7431 - accuracy: 0.1625\n",
      "Epoch 26/50\n",
      "20/20 [==============================] - 2s 100ms/step - loss: 2.7308 - accuracy: 0.1547\n",
      "Epoch 27/50\n",
      "20/20 [==============================] - 2s 100ms/step - loss: 2.6889 - accuracy: 0.1766\n",
      "Epoch 28/50\n",
      "20/20 [==============================] - 2s 99ms/step - loss: 2.7018 - accuracy: 0.1656\n",
      "Epoch 29/50\n",
      "20/20 [==============================] - 2s 99ms/step - loss: 2.6901 - accuracy: 0.1734\n",
      "Epoch 30/50\n",
      "20/20 [==============================] - 2s 99ms/step - loss: 2.6669 - accuracy: 0.1547\n",
      "Epoch 31/50\n",
      "20/20 [==============================] - 2s 100ms/step - loss: 2.6595 - accuracy: 0.1828\n",
      "Epoch 32/50\n",
      "20/20 [==============================] - 2s 101ms/step - loss: 2.6547 - accuracy: 0.1750\n",
      "Epoch 33/50\n",
      "20/20 [==============================] - 2s 99ms/step - loss: 2.6510 - accuracy: 0.1703\n",
      "Epoch 34/50\n",
      "20/20 [==============================] - 2s 100ms/step - loss: 2.6202 - accuracy: 0.1891\n",
      "Epoch 35/50\n",
      "20/20 [==============================] - 2s 99ms/step - loss: 2.6040 - accuracy: 0.1922\n",
      "Epoch 36/50\n",
      "20/20 [==============================] - 2s 99ms/step - loss: 2.6110 - accuracy: 0.1797\n",
      "Epoch 37/50\n",
      "20/20 [==============================] - 2s 100ms/step - loss: 2.6128 - accuracy: 0.1750\n",
      "Epoch 38/50\n",
      "20/20 [==============================] - 2s 100ms/step - loss: 2.5986 - accuracy: 0.1750\n",
      "Epoch 39/50\n",
      "20/20 [==============================] - 2s 99ms/step - loss: 2.6066 - accuracy: 0.1922\n",
      "Epoch 40/50\n",
      "20/20 [==============================] - 2s 114ms/step - loss: 2.6082 - accuracy: 0.1703\n",
      "Epoch 41/50\n",
      "20/20 [==============================] - 2s 105ms/step - loss: 2.5616 - accuracy: 0.1984\n",
      "Epoch 42/50\n",
      "20/20 [==============================] - 2s 103ms/step - loss: 2.5156 - accuracy: 0.2234\n",
      "Epoch 43/50\n",
      "20/20 [==============================] - 2s 100ms/step - loss: 2.5475 - accuracy: 0.2047\n",
      "Epoch 44/50\n",
      "20/20 [==============================] - 2s 100ms/step - loss: 2.5355 - accuracy: 0.2547\n",
      "Epoch 45/50\n",
      "20/20 [==============================] - 2s 100ms/step - loss: 2.5326 - accuracy: 0.1984\n",
      "Epoch 46/50\n",
      "20/20 [==============================] - 2s 100ms/step - loss: 2.5085 - accuracy: 0.2203\n",
      "Epoch 47/50\n",
      "20/20 [==============================] - 2s 101ms/step - loss: 2.5109 - accuracy: 0.2188\n",
      "Epoch 48/50\n",
      "20/20 [==============================] - 2s 100ms/step - loss: 2.4807 - accuracy: 0.2141\n",
      "Epoch 49/50\n",
      "20/20 [==============================] - 2s 100ms/step - loss: 2.4490 - accuracy: 0.2375\n",
      "Epoch 50/50\n",
      "20/20 [==============================] - 2s 100ms/step - loss: 2.4635 - accuracy: 0.1984\n",
      "WARNING:tensorflow:From C:\\Users\\ABHI\\anaconda3\\envs\\ai\\lib\\site-packages\\tensorflow_core\\python\\ops\\resource_variable_ops.py:1781: calling BaseResourceVariable.__init__ (from tensorflow.python.ops.resource_variable_ops) with constraint is deprecated and will be removed in a future version.\n",
      "Instructions for updating:\n",
      "If using Keras pass *_constraint arguments to layers.\n",
      "INFO:tensorflow:Assets written to: audio_epochs50_lr0.0001_batch32\\assets\n"
     ]
    }
   ],
   "source": [
    "epochs = 50\n",
    "lr = 0.0001\n",
    "save_model_as = \"audio_epochs{}_lr{}_batch{}\"\n",
    "optimizer = Adam(lr=lr)\n",
    "model = audio_model()\n",
    "model.compile(optimizer=optimizer, loss='categorical_crossentropy', metrics=['accuracy'])\n",
    "\n",
    "model.fit(dataset, epochs=epochs, steps_per_epoch=20)\n",
    "model.save(save_model_as.format(epochs, lr, batch_size))"
   ]
  },
  {
   "cell_type": "code",
   "execution_count": null,
   "metadata": {},
   "outputs": [],
   "source": []
  },
  {
   "cell_type": "code",
   "execution_count": null,
   "metadata": {},
   "outputs": [],
   "source": []
  }
 ],
 "metadata": {
  "kernelspec": {
   "display_name": "Python (ai)",
   "language": "python",
   "name": "ai"
  },
  "language_info": {
   "codemirror_mode": {
    "name": "ipython",
    "version": 3
   },
   "file_extension": ".py",
   "mimetype": "text/x-python",
   "name": "python",
   "nbconvert_exporter": "python",
   "pygments_lexer": "ipython3",
   "version": "3.7.10"
  }
 },
 "nbformat": 4,
 "nbformat_minor": 4
}
