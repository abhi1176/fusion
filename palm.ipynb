{
 "cells": [
  {
   "cell_type": "code",
   "execution_count": 13,
   "metadata": {},
   "outputs": [],
   "source": [
    "import tensorflow as tf\n",
    "import numpy as np\n",
    "import pandas as pd\n",
    "\n",
    "from tensorflow.keras.layers import Input, Conv2D, MaxPool2D, Dropout, Flatten, Dense\n",
    "from tensorflow.keras.models import Model\n",
    "from tensorflow.keras.preprocessing.image import ImageDataGenerator\n",
    "from tensorflow.keras.optimizers import Adam\n",
    "from tensorflow.keras.applications import VGG16"
   ]
  },
  {
   "cell_type": "code",
   "execution_count": 6,
   "metadata": {},
   "outputs": [],
   "source": [
    "image_size = (224, 224)\n",
    "num_classes = 300\n",
    "train_batch_size = 64\n",
    "val_batch_size = 32"
   ]
  },
  {
   "cell_type": "code",
   "execution_count": 7,
   "metadata": {},
   "outputs": [],
   "source": [
    "def palm_model():\n",
    "    x1 = Input(shape=(224, 224, 3),name='palm_input')\n",
    "    x = Conv2D(filters=64,kernel_size=(3,3),padding=\"same\", activation=\"relu\")(x1)\n",
    "    x = Conv2D(filters=64,kernel_size=(3,3),padding=\"same\", activation=\"relu\")(x)\n",
    "    x = MaxPool2D(pool_size=(2,2),strides=(2,2))(x)\n",
    "    x = Conv2D(filters=128, kernel_size=(3,3), padding=\"same\", activation=\"relu\")(x)\n",
    "    x = Conv2D(filters=128, kernel_size=(3,3), padding=\"same\", activation=\"relu\")(x)\n",
    "    x = MaxPool2D(pool_size=(2,2),strides=(2,2))(x)\n",
    "    x = Conv2D(filters=256, kernel_size=(3,3), padding=\"same\", activation=\"relu\")(x)\n",
    "    x = Conv2D(filters=256, kernel_size=(3,3), padding=\"same\", activation=\"relu\")(x)\n",
    "    x = Conv2D(filters=256, kernel_size=(3,3), padding=\"same\", activation=\"relu\")(x)\n",
    "    x = MaxPool2D(pool_size=(2,2),strides=(2,2))(x)\n",
    "    x = Conv2D(filters=512, kernel_size=(3,3), padding=\"same\", activation=\"relu\")(x)\n",
    "    x = Conv2D(filters=512, kernel_size=(3,3), padding=\"same\", activation=\"relu\")(x)\n",
    "    x = Conv2D(filters=512, kernel_size=(3,3), padding=\"same\", activation=\"relu\")(x)\n",
    "    x = MaxPool2D(pool_size=(2,2),strides=(2,2))(x)\n",
    "    x = Conv2D(filters=512, kernel_size=(3,3), padding=\"same\", activation=\"relu\")(x)\n",
    "    x = Conv2D(filters=512, kernel_size=(3,3), padding=\"same\", activation=\"relu\")(x)\n",
    "    x = Conv2D(filters=512, kernel_size=(3,3), padding=\"same\", activation=\"relu\")(x)\n",
    "    x = MaxPool2D(pool_size=(2,2),strides=(2,2),name='palm_vgg16')(x)\n",
    "    x = Dropout(0.5)(x)\n",
    "    x = Flatten(name='palm_flatten')(x)\n",
    "    x = Dense(256, activation='relu', name='palm_fc1')(x)\n",
    "    x = Dense(128, activation='relu', name='palm_fc2')(x)\n",
    "    x = Dense(20, activation='softmax',name='palm_output')(x)\n",
    "    return Model(inputs=x1, outputs=x)"
   ]
  },
  {
   "cell_type": "code",
   "execution_count": 8,
   "metadata": {},
   "outputs": [],
   "source": [
    "def palm_model():\n",
    "    model = VGG16(include_top=False, input_shape=(224, 224, 3))\n",
    "    x = Flatten()(model.output)\n",
    "    x = Dense(4096, activation='relu')(x)\n",
    "    x = Dropout(0.5)(x)\n",
    "    x = Dense(4096, activation='relu')(x)\n",
    "    x = Dropout(0.5)(x)\n",
    "    x = Dense(num_classes, activation='softmax')(x)\n",
    "    return Model(model.inputs, x)"
   ]
  },
  {
   "cell_type": "code",
   "execution_count": 9,
   "metadata": {},
   "outputs": [],
   "source": [
    "def read_palm_img(image_file):\n",
    "    image = cv2.imread(image_file)\n",
    "    image = cv2.resize(image, image_size)\n",
    "    image = image * 1./255\n",
    "    return image.astype(np.float32)"
   ]
  },
  {
   "cell_type": "code",
   "execution_count": 10,
   "metadata": {},
   "outputs": [],
   "source": [
    "def generate_data(csv_file):\n",
    "    def process():\n",
    "        df = pd.read_csv(csv_file)\n",
    "        df = df[['palm_print', 'label']]\n",
    "        unique_labels = list(np.unique(df.label))\n",
    "        num_labels = len(unique_labels)\n",
    "        total_rows = df.shape[0]\n",
    "        row_idx = 0\n",
    "        while True:\n",
    "            if row_idx % total_rows == 0:\n",
    "                row_idx = 0\n",
    "                df.sample(frac=1)  # Shuffle dataframe\n",
    "            row = df.iloc[row_idx, :]\n",
    "            row_idx += 1\n",
    "            palm = read_palm_img(row['palm_print'])\n",
    "            label = to_categorical(unique_labels.index(row['label']), num_classes=num_labels)\n",
    "            yield palm, label\n",
    "    return process"
   ]
  },
  {
   "cell_type": "code",
   "execution_count": 11,
   "metadata": {},
   "outputs": [],
   "source": [
    "def data_generator(csv_file, batch_size):\n",
    "    gen = generate_data(csv_file)\n",
    "    dataset = tf.data.Dataset.from_generator(gen,\n",
    "        output_types=(tf.float32, tf.float32),\n",
    "        output_shapes=((224, 224, 3), num_classes)\n",
    "    )\n",
    "    dataset = dataset.batch(batch_size)\n",
    "    dataset = dataset.prefetch(2)\n",
    "    return dataset"
   ]
  },
  {
   "cell_type": "code",
   "execution_count": 15,
   "metadata": {},
   "outputs": [
    {
     "name": "stdout",
     "output_type": "stream",
     "text": [
      "Model: \"model\"\n",
      "_________________________________________________________________\n",
      "Layer (type)                 Output Shape              Param #   \n",
      "=================================================================\n",
      "input_1 (InputLayer)         [(None, 224, 224, 3)]     0         \n",
      "_________________________________________________________________\n",
      "block1_conv1 (Conv2D)        (None, 224, 224, 64)      1792      \n",
      "_________________________________________________________________\n",
      "block1_conv2 (Conv2D)        (None, 224, 224, 64)      36928     \n",
      "_________________________________________________________________\n",
      "block1_pool (MaxPooling2D)   (None, 112, 112, 64)      0         \n",
      "_________________________________________________________________\n",
      "block2_conv1 (Conv2D)        (None, 112, 112, 128)     73856     \n",
      "_________________________________________________________________\n",
      "block2_conv2 (Conv2D)        (None, 112, 112, 128)     147584    \n",
      "_________________________________________________________________\n",
      "block2_pool (MaxPooling2D)   (None, 56, 56, 128)       0         \n",
      "_________________________________________________________________\n",
      "block3_conv1 (Conv2D)        (None, 56, 56, 256)       295168    \n",
      "_________________________________________________________________\n",
      "block3_conv2 (Conv2D)        (None, 56, 56, 256)       590080    \n",
      "_________________________________________________________________\n",
      "block3_conv3 (Conv2D)        (None, 56, 56, 256)       590080    \n",
      "_________________________________________________________________\n",
      "block3_pool (MaxPooling2D)   (None, 28, 28, 256)       0         \n",
      "_________________________________________________________________\n",
      "block4_conv1 (Conv2D)        (None, 28, 28, 512)       1180160   \n",
      "_________________________________________________________________\n",
      "block4_conv2 (Conv2D)        (None, 28, 28, 512)       2359808   \n",
      "_________________________________________________________________\n",
      "block4_conv3 (Conv2D)        (None, 28, 28, 512)       2359808   \n",
      "_________________________________________________________________\n",
      "block4_pool (MaxPooling2D)   (None, 14, 14, 512)       0         \n",
      "_________________________________________________________________\n",
      "block5_conv1 (Conv2D)        (None, 14, 14, 512)       2359808   \n",
      "_________________________________________________________________\n",
      "block5_conv2 (Conv2D)        (None, 14, 14, 512)       2359808   \n",
      "_________________________________________________________________\n",
      "block5_conv3 (Conv2D)        (None, 14, 14, 512)       2359808   \n",
      "_________________________________________________________________\n",
      "block5_pool (MaxPooling2D)   (None, 7, 7, 512)         0         \n",
      "_________________________________________________________________\n",
      "flatten (Flatten)            (None, 25088)             0         \n",
      "_________________________________________________________________\n",
      "dense (Dense)                (None, 4096)              102764544 \n",
      "_________________________________________________________________\n",
      "dropout (Dropout)            (None, 4096)              0         \n",
      "_________________________________________________________________\n",
      "dense_1 (Dense)              (None, 4096)              16781312  \n",
      "_________________________________________________________________\n",
      "dropout_1 (Dropout)          (None, 4096)              0         \n",
      "_________________________________________________________________\n",
      "dense_2 (Dense)              (None, 300)               1229100   \n",
      "=================================================================\n",
      "Total params: 135,489,644\n",
      "Trainable params: 135,489,644\n",
      "Non-trainable params: 0\n",
      "_________________________________________________________________\n"
     ]
    }
   ],
   "source": [
    "lr = 0.0001\n",
    "epochs = 5\n",
    "num_train_samples = pd.read_csv('train.csv').shape[0]\n",
    "num_val_samples = pd.read_csv('val.csv').shape[0]\n",
    "steps_per_epoch = num_train_samples//train_batch_size\n",
    "validation_steps = num_val_samples//val_batch_size\n",
    "save_model_as = \"palm_epochs{}_lr{}_batch{}\"\n",
    "model_output = save_model_as.format(epochs, lr, train_batch_size)\n",
    "\n",
    "train_gen = data_generator('train.csv', batch_size=train_batch_size)\n",
    "val_gen = data_generator('val.csv', batch_size=val_batch_size)\n",
    "model = palm_model()\n",
    "model.summary()\n",
    "# model.compile(optimizer=Adam(lr=lr), loss='categorical_crossentropy', metrics=['accuracy'])\n",
    "# history = model.fit(train_gen, epochs=epochs,\n",
    "#                     steps_per_epoch=steps_per_epoch,\n",
    "#                     validation_data=val_gen,\n",
    "#                     validation_steps=validation_steps)\n",
    "# model.save(model_output)"
   ]
  },
  {
   "cell_type": "code",
   "execution_count": null,
   "metadata": {},
   "outputs": [],
   "source": []
  }
 ],
 "metadata": {
  "kernelspec": {
   "display_name": "Python (ai)",
   "language": "python",
   "name": "ai"
  },
  "language_info": {
   "codemirror_mode": {
    "name": "ipython",
    "version": 3
   },
   "file_extension": ".py",
   "mimetype": "text/x-python",
   "name": "python",
   "nbconvert_exporter": "python",
   "pygments_lexer": "ipython3",
   "version": "3.7.10"
  }
 },
 "nbformat": 4,
 "nbformat_minor": 4
}
