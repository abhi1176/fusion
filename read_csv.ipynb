{
 "cells": [
  {
   "cell_type": "code",
   "execution_count": 2,
   "metadata": {
    "collapsed": true
   },
   "outputs": [],
   "source": [
    "import pandas as pd\n",
    "\n",
    "face_df = pd.read_csv('face.csv')"
   ]
  },
  {
   "cell_type": "code",
   "execution_count": 3,
   "outputs": [],
   "source": [
    "palmprint_df = pd.read_csv('palmprint.csv')\n",
    "signature_df = pd.read_csv('signature_data.csv')\n",
    "speaker_df = pd.read_csv('speaker.csv')"
   ],
   "metadata": {
    "collapsed": false,
    "pycharm": {
     "name": "#%%\n"
    }
   }
  },
  {
   "cell_type": "code",
   "execution_count": 4,
   "outputs": [
    {
     "data": {
      "text/plain": "    Unnamed: 0  name                 face id_index\n0            0    32  face/0032/432_4.bmp   0032_1\n1            1    32  face/0032/432_3.bmp   0032_2\n2            2    32  face/0032/432_2.bmp   0032_3\n3            3    32  face/0032/432_0.bmp   0032_4\n4            4    32  face/0032/432_1.bmp   0032_5\n..         ...   ...                  ...      ...\n95          95    25  face/0025/425_2.bmp   0025_1\n96          96    25  face/0025/425_3.bmp   0025_2\n97          97    25  face/0025/425_1.bmp   0025_3\n98          98    25  face/0025/425_0.bmp   0025_4\n99          99    25  face/0025/425_4.bmp   0025_5\n\n[100 rows x 4 columns]",
      "text/html": "<div>\n<style scoped>\n    .dataframe tbody tr th:only-of-type {\n        vertical-align: middle;\n    }\n\n    .dataframe tbody tr th {\n        vertical-align: top;\n    }\n\n    .dataframe thead th {\n        text-align: right;\n    }\n</style>\n<table border=\"1\" class=\"dataframe\">\n  <thead>\n    <tr style=\"text-align: right;\">\n      <th></th>\n      <th>Unnamed: 0</th>\n      <th>name</th>\n      <th>face</th>\n      <th>id_index</th>\n    </tr>\n  </thead>\n  <tbody>\n    <tr>\n      <th>0</th>\n      <td>0</td>\n      <td>32</td>\n      <td>face/0032/432_4.bmp</td>\n      <td>0032_1</td>\n    </tr>\n    <tr>\n      <th>1</th>\n      <td>1</td>\n      <td>32</td>\n      <td>face/0032/432_3.bmp</td>\n      <td>0032_2</td>\n    </tr>\n    <tr>\n      <th>2</th>\n      <td>2</td>\n      <td>32</td>\n      <td>face/0032/432_2.bmp</td>\n      <td>0032_3</td>\n    </tr>\n    <tr>\n      <th>3</th>\n      <td>3</td>\n      <td>32</td>\n      <td>face/0032/432_0.bmp</td>\n      <td>0032_4</td>\n    </tr>\n    <tr>\n      <th>4</th>\n      <td>4</td>\n      <td>32</td>\n      <td>face/0032/432_1.bmp</td>\n      <td>0032_5</td>\n    </tr>\n    <tr>\n      <th>...</th>\n      <td>...</td>\n      <td>...</td>\n      <td>...</td>\n      <td>...</td>\n    </tr>\n    <tr>\n      <th>95</th>\n      <td>95</td>\n      <td>25</td>\n      <td>face/0025/425_2.bmp</td>\n      <td>0025_1</td>\n    </tr>\n    <tr>\n      <th>96</th>\n      <td>96</td>\n      <td>25</td>\n      <td>face/0025/425_3.bmp</td>\n      <td>0025_2</td>\n    </tr>\n    <tr>\n      <th>97</th>\n      <td>97</td>\n      <td>25</td>\n      <td>face/0025/425_1.bmp</td>\n      <td>0025_3</td>\n    </tr>\n    <tr>\n      <th>98</th>\n      <td>98</td>\n      <td>25</td>\n      <td>face/0025/425_0.bmp</td>\n      <td>0025_4</td>\n    </tr>\n    <tr>\n      <th>99</th>\n      <td>99</td>\n      <td>25</td>\n      <td>face/0025/425_4.bmp</td>\n      <td>0025_5</td>\n    </tr>\n  </tbody>\n</table>\n<p>100 rows × 4 columns</p>\n</div>"
     },
     "execution_count": 4,
     "metadata": {},
     "output_type": "execute_result"
    }
   ],
   "source": [
    "face_df"
   ],
   "metadata": {
    "collapsed": false,
    "pycharm": {
     "name": "#%%\n"
    }
   }
  },
  {
   "cell_type": "code",
   "execution_count": 5,
   "outputs": [],
   "source": [
    "merge_face_palmprint = face_df.merge(palmprint_df, how='inner', on='id_index')\n",
    "\n",
    "merge_face_palmprint_signature = merge_face_palmprint.merge(signature_df, how='inner', on='id_index')"
   ],
   "metadata": {
    "collapsed": false,
    "pycharm": {
     "name": "#%%\n"
    }
   }
  },
  {
   "cell_type": "code",
   "execution_count": 6,
   "outputs": [
    {
     "data": {
      "text/plain": "    Unnamed: 0_x  name_x                 face id_index  Unnamed: 0_y  name_y  \\\n0              0      32  face/0032/432_4.bmp   0032_1             0      32   \n1              1      32  face/0032/432_3.bmp   0032_2             1      32   \n2              2      32  face/0032/432_2.bmp   0032_3             2      32   \n3              3      32  face/0032/432_0.bmp   0032_4             3      32   \n4              4      32  face/0032/432_1.bmp   0032_5             4      32   \n..           ...     ...                  ...      ...           ...     ...   \n95            95      25  face/0025/425_2.bmp   0025_1            95      25   \n96            96      25  face/0025/425_3.bmp   0025_2            96      25   \n97            97      25  face/0025/425_1.bmp   0025_3            97      25   \n98            98      25  face/0025/425_0.bmp   0025_4            98      25   \n99            99      25  face/0025/425_4.bmp   0025_5            99      25   \n\n                         palmprint  Unnamed: 0  name  \\\n0   palmprint/0032/0032_m_l_02.jpg           0    32   \n1   palmprint/0032/0032_m_l_03.jpg           1    32   \n2   palmprint/0032/0032_m_l_01.jpg           2    32   \n3   palmprint/0032/0032_m_l_04.jpg           3    32   \n4   palmprint/0032/0032_m_l_05.jpg           4    32   \n..                             ...         ...   ...   \n95  palmprint/0025/0025_m_l_02.jpg          95    25   \n96  palmprint/0025/0025_m_l_03.jpg          96    25   \n97  palmprint/0025/0025_m_l_01.jpg          97    25   \n98  palmprint/0025/0025_m_l_04.jpg          98    25   \n99  palmprint/0025/0025_m_l_05.jpg          99    25   \n\n                   signature_data  \n0   signature_data/0032/U17S4.png  \n1   signature_data/0032/U17S5.png  \n2   signature_data/0032/U17S2.png  \n3   signature_data/0032/U17S3.png  \n4   signature_data/0032/U17S1.png  \n..                            ...  \n95  signature_data/0025/U10S1.png  \n96  signature_data/0025/U10S2.png  \n97  signature_data/0025/U10S3.png  \n98  signature_data/0025/U10S4.png  \n99  signature_data/0025/U10S5.png  \n\n[100 rows x 10 columns]",
      "text/html": "<div>\n<style scoped>\n    .dataframe tbody tr th:only-of-type {\n        vertical-align: middle;\n    }\n\n    .dataframe tbody tr th {\n        vertical-align: top;\n    }\n\n    .dataframe thead th {\n        text-align: right;\n    }\n</style>\n<table border=\"1\" class=\"dataframe\">\n  <thead>\n    <tr style=\"text-align: right;\">\n      <th></th>\n      <th>Unnamed: 0_x</th>\n      <th>name_x</th>\n      <th>face</th>\n      <th>id_index</th>\n      <th>Unnamed: 0_y</th>\n      <th>name_y</th>\n      <th>palmprint</th>\n      <th>Unnamed: 0</th>\n      <th>name</th>\n      <th>signature_data</th>\n    </tr>\n  </thead>\n  <tbody>\n    <tr>\n      <th>0</th>\n      <td>0</td>\n      <td>32</td>\n      <td>face/0032/432_4.bmp</td>\n      <td>0032_1</td>\n      <td>0</td>\n      <td>32</td>\n      <td>palmprint/0032/0032_m_l_02.jpg</td>\n      <td>0</td>\n      <td>32</td>\n      <td>signature_data/0032/U17S4.png</td>\n    </tr>\n    <tr>\n      <th>1</th>\n      <td>1</td>\n      <td>32</td>\n      <td>face/0032/432_3.bmp</td>\n      <td>0032_2</td>\n      <td>1</td>\n      <td>32</td>\n      <td>palmprint/0032/0032_m_l_03.jpg</td>\n      <td>1</td>\n      <td>32</td>\n      <td>signature_data/0032/U17S5.png</td>\n    </tr>\n    <tr>\n      <th>2</th>\n      <td>2</td>\n      <td>32</td>\n      <td>face/0032/432_2.bmp</td>\n      <td>0032_3</td>\n      <td>2</td>\n      <td>32</td>\n      <td>palmprint/0032/0032_m_l_01.jpg</td>\n      <td>2</td>\n      <td>32</td>\n      <td>signature_data/0032/U17S2.png</td>\n    </tr>\n    <tr>\n      <th>3</th>\n      <td>3</td>\n      <td>32</td>\n      <td>face/0032/432_0.bmp</td>\n      <td>0032_4</td>\n      <td>3</td>\n      <td>32</td>\n      <td>palmprint/0032/0032_m_l_04.jpg</td>\n      <td>3</td>\n      <td>32</td>\n      <td>signature_data/0032/U17S3.png</td>\n    </tr>\n    <tr>\n      <th>4</th>\n      <td>4</td>\n      <td>32</td>\n      <td>face/0032/432_1.bmp</td>\n      <td>0032_5</td>\n      <td>4</td>\n      <td>32</td>\n      <td>palmprint/0032/0032_m_l_05.jpg</td>\n      <td>4</td>\n      <td>32</td>\n      <td>signature_data/0032/U17S1.png</td>\n    </tr>\n    <tr>\n      <th>...</th>\n      <td>...</td>\n      <td>...</td>\n      <td>...</td>\n      <td>...</td>\n      <td>...</td>\n      <td>...</td>\n      <td>...</td>\n      <td>...</td>\n      <td>...</td>\n      <td>...</td>\n    </tr>\n    <tr>\n      <th>95</th>\n      <td>95</td>\n      <td>25</td>\n      <td>face/0025/425_2.bmp</td>\n      <td>0025_1</td>\n      <td>95</td>\n      <td>25</td>\n      <td>palmprint/0025/0025_m_l_02.jpg</td>\n      <td>95</td>\n      <td>25</td>\n      <td>signature_data/0025/U10S1.png</td>\n    </tr>\n    <tr>\n      <th>96</th>\n      <td>96</td>\n      <td>25</td>\n      <td>face/0025/425_3.bmp</td>\n      <td>0025_2</td>\n      <td>96</td>\n      <td>25</td>\n      <td>palmprint/0025/0025_m_l_03.jpg</td>\n      <td>96</td>\n      <td>25</td>\n      <td>signature_data/0025/U10S2.png</td>\n    </tr>\n    <tr>\n      <th>97</th>\n      <td>97</td>\n      <td>25</td>\n      <td>face/0025/425_1.bmp</td>\n      <td>0025_3</td>\n      <td>97</td>\n      <td>25</td>\n      <td>palmprint/0025/0025_m_l_01.jpg</td>\n      <td>97</td>\n      <td>25</td>\n      <td>signature_data/0025/U10S3.png</td>\n    </tr>\n    <tr>\n      <th>98</th>\n      <td>98</td>\n      <td>25</td>\n      <td>face/0025/425_0.bmp</td>\n      <td>0025_4</td>\n      <td>98</td>\n      <td>25</td>\n      <td>palmprint/0025/0025_m_l_04.jpg</td>\n      <td>98</td>\n      <td>25</td>\n      <td>signature_data/0025/U10S4.png</td>\n    </tr>\n    <tr>\n      <th>99</th>\n      <td>99</td>\n      <td>25</td>\n      <td>face/0025/425_4.bmp</td>\n      <td>0025_5</td>\n      <td>99</td>\n      <td>25</td>\n      <td>palmprint/0025/0025_m_l_05.jpg</td>\n      <td>99</td>\n      <td>25</td>\n      <td>signature_data/0025/U10S5.png</td>\n    </tr>\n  </tbody>\n</table>\n<p>100 rows × 10 columns</p>\n</div>"
     },
     "execution_count": 6,
     "metadata": {},
     "output_type": "execute_result"
    }
   ],
   "source": [
    "merge_face_palmprint_signature"
   ],
   "metadata": {
    "collapsed": false,
    "pycharm": {
     "name": "#%%\n"
    }
   }
  },
  {
   "cell_type": "code",
   "execution_count": 7,
   "outputs": [],
   "source": [
    "merge_face_palmprint_signature_audio = merge_face_palmprint_signature.merge(speaker_df,how='inner', on='id_index')"
   ],
   "metadata": {
    "collapsed": false,
    "pycharm": {
     "name": "#%%\n"
    }
   }
  },
  {
   "cell_type": "code",
   "execution_count": 8,
   "outputs": [],
   "source": [
    "merge_face_palmprint_signature_audio\n",
    "merge_face_palmprint_signature_audio.to_csv('merge_fpsa.csv')\n",
    "\n",
    "\n"
   ],
   "metadata": {
    "collapsed": false,
    "pycharm": {
     "name": "#%%\n"
    }
   }
  }
 ],
 "metadata": {
  "kernelspec": {
   "display_name": "Python 3",
   "language": "python",
   "name": "python3"
  },
  "language_info": {
   "codemirror_mode": {
    "name": "ipython",
    "version": 2
   },
   "file_extension": ".py",
   "mimetype": "text/x-python",
   "name": "python",
   "nbconvert_exporter": "python",
   "pygments_lexer": "ipython2",
   "version": "2.7.6"
  }
 },
 "nbformat": 4,
 "nbformat_minor": 0
}