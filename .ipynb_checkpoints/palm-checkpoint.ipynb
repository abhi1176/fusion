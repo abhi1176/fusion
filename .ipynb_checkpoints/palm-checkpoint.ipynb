{
 "cells": [
  {
   "cell_type": "code",
   "execution_count": 10,
   "metadata": {},
   "outputs": [
    {
     "ename": "ImportError",
     "evalue": "cannot import name 'text_dataset_from_directory' from 'tensorflow.keras.preprocessing' (C:\\Users\\ABHI\\anaconda3\\envs\\ai\\lib\\site-packages\\tensorflow_core\\python\\keras\\api\\_v2\\keras\\preprocessing\\__init__.py)",
     "output_type": "error",
     "traceback": [
      "\u001b[1;31m---------------------------------------------------------------------------\u001b[0m",
      "\u001b[1;31mImportError\u001b[0m                               Traceback (most recent call last)",
      "\u001b[1;32m<ipython-input-10-8961ae0b3c78>\u001b[0m in \u001b[0;36m<module>\u001b[1;34m\u001b[0m\n\u001b[0;32m      4\u001b[0m \u001b[1;32mfrom\u001b[0m \u001b[0mtensorflow\u001b[0m\u001b[1;33m.\u001b[0m\u001b[0mkeras\u001b[0m\u001b[1;33m.\u001b[0m\u001b[0mlayers\u001b[0m \u001b[1;32mimport\u001b[0m \u001b[0mInput\u001b[0m\u001b[1;33m,\u001b[0m \u001b[0mConv2D\u001b[0m\u001b[1;33m,\u001b[0m \u001b[0mMaxPool2D\u001b[0m\u001b[1;33m,\u001b[0m \u001b[0mDropout\u001b[0m\u001b[1;33m,\u001b[0m \u001b[0mFlatten\u001b[0m\u001b[1;33m,\u001b[0m \u001b[0mDense\u001b[0m\u001b[1;33m\u001b[0m\u001b[1;33m\u001b[0m\u001b[0m\n\u001b[0;32m      5\u001b[0m \u001b[1;32mfrom\u001b[0m \u001b[0mtensorflow\u001b[0m\u001b[1;33m.\u001b[0m\u001b[0mkeras\u001b[0m\u001b[1;33m.\u001b[0m\u001b[0mmodels\u001b[0m \u001b[1;32mimport\u001b[0m \u001b[0mModel\u001b[0m\u001b[1;33m\u001b[0m\u001b[1;33m\u001b[0m\u001b[0m\n\u001b[1;32m----> 6\u001b[1;33m \u001b[1;32mfrom\u001b[0m \u001b[0mtensorflow\u001b[0m\u001b[1;33m.\u001b[0m\u001b[0mkeras\u001b[0m\u001b[1;33m.\u001b[0m\u001b[0mpreprocessing\u001b[0m \u001b[1;32mimport\u001b[0m \u001b[0mtext_dataset_from_directory\u001b[0m\u001b[1;33m\u001b[0m\u001b[1;33m\u001b[0m\u001b[0m\n\u001b[0m\u001b[0;32m      7\u001b[0m \u001b[1;32mfrom\u001b[0m \u001b[0mtensorflow\u001b[0m\u001b[1;33m.\u001b[0m\u001b[0mkeras\u001b[0m\u001b[1;33m.\u001b[0m\u001b[0moptimizers\u001b[0m \u001b[1;32mimport\u001b[0m \u001b[0mAdam\u001b[0m\u001b[1;33m\u001b[0m\u001b[1;33m\u001b[0m\u001b[0m\n",
      "\u001b[1;31mImportError\u001b[0m: cannot import name 'text_dataset_from_directory' from 'tensorflow.keras.preprocessing' (C:\\Users\\ABHI\\anaconda3\\envs\\ai\\lib\\site-packages\\tensorflow_core\\python\\keras\\api\\_v2\\keras\\preprocessing\\__init__.py)"
     ]
    }
   ],
   "source": [
    "import tensorflow as tf\n",
    "import numpy as np\n",
    "\n",
    "from tensorflow.keras.layers import Input, Conv2D, MaxPool2D, Dropout, Flatten, Dense\n",
    "from tensorflow.keras.models import Model\n",
    "from tensorflow.keras.preprocessing.image import ImageDataGenerator\n",
    "from tensorflow.keras.optimizers import Adam"
   ]
  },
  {
   "cell_type": "code",
   "execution_count": 2,
   "metadata": {},
   "outputs": [],
   "source": [
    "input_dir = \"palmprint\"\n",
    "image_size = (224, 224)\n",
    "train_batch_size = 60\n",
    "val_batch_size = 8"
   ]
  },
  {
   "cell_type": "code",
   "execution_count": 6,
   "metadata": {},
   "outputs": [],
   "source": [
    "def palm_model():\n",
    "    x1 = Input(shape=(224, 224, 3),name='palm_input')\n",
    "    x = Conv2D(filters=64,kernel_size=(3,3),padding=\"same\", activation=\"relu\")(x1)\n",
    "    x = Conv2D(filters=64,kernel_size=(3,3),padding=\"same\", activation=\"relu\")(x)\n",
    "    x = MaxPool2D(pool_size=(2,2),strides=(2,2))(x)\n",
    "    x = Conv2D(filters=128, kernel_size=(3,3), padding=\"same\", activation=\"relu\")(x)\n",
    "    x = Conv2D(filters=128, kernel_size=(3,3), padding=\"same\", activation=\"relu\")(x)\n",
    "    x = MaxPool2D(pool_size=(2,2),strides=(2,2))(x)\n",
    "    x = Conv2D(filters=256, kernel_size=(3,3), padding=\"same\", activation=\"relu\")(x)\n",
    "    x = Conv2D(filters=256, kernel_size=(3,3), padding=\"same\", activation=\"relu\")(x)\n",
    "    x = Conv2D(filters=256, kernel_size=(3,3), padding=\"same\", activation=\"relu\")(x)\n",
    "    x = MaxPool2D(pool_size=(2,2),strides=(2,2))(x)\n",
    "    x = Conv2D(filters=512, kernel_size=(3,3), padding=\"same\", activation=\"relu\")(x)\n",
    "    x = Conv2D(filters=512, kernel_size=(3,3), padding=\"same\", activation=\"relu\")(x)\n",
    "    x = Conv2D(filters=512, kernel_size=(3,3), padding=\"same\", activation=\"relu\")(x)\n",
    "    x = MaxPool2D(pool_size=(2,2),strides=(2,2))(x)\n",
    "    x = Conv2D(filters=512, kernel_size=(3,3), padding=\"same\", activation=\"relu\")(x)\n",
    "    x = Conv2D(filters=512, kernel_size=(3,3), padding=\"same\", activation=\"relu\")(x)\n",
    "    x = Conv2D(filters=512, kernel_size=(3,3), padding=\"same\", activation=\"relu\")(x)\n",
    "    x = MaxPool2D(pool_size=(2,2),strides=(2,2),name='face_vgg16')(x)\n",
    "    x = Dropout(0.5)(x)\n",
    "    x = Flatten(name='palm_flatten')(x)\n",
    "    x = Dense(256, activation='relu', name='palm_fc1')(x)\n",
    "    x = Dense(128, activation='relu', name='palm_fc2')(x)\n",
    "    x = Dense(20, activation='softmax',name='palm_output')(x)\n",
    "    return Model(inputs=x1, outputs=x)"
   ]
  },
  {
   "cell_type": "code",
   "execution_count": 7,
   "metadata": {},
   "outputs": [
    {
     "name": "stdout",
     "output_type": "stream",
     "text": [
      "Found 60 images belonging to 20 classes.\n",
      "Found 40 images belonging to 20 classes.\n"
     ]
    }
   ],
   "source": [
    "datagen = ImageDataGenerator(validation_split=0.4, rescale=1./255)\n",
    "train_generator = datagen.flow_from_directory(input_dir, subset='training', target_size=image_size,\n",
    "                                              batch_size=train_batch_size, shuffle=True, class_mode='categorical')\n",
    "val_generator = datagen.flow_from_directory(input_dir, subset='validation', target_size=image_size,\n",
    "                                            batch_size=val_batch_size, shuffle=False, class_mode='categorical')"
   ]
  },
  {
   "cell_type": "code",
   "execution_count": 9,
   "metadata": {},
   "outputs": [
    {
     "name": "stdout",
     "output_type": "stream",
     "text": [
      "Train for 1 steps, validate for 3 steps\n",
      "Epoch 1/50\n",
      "1/1 [==============================] - 2s 2s/step - loss: 2.9960 - accuracy: 0.0312 - val_loss: 2.9951 - val_accuracy: 0.0833\n",
      "Epoch 2/50\n",
      "1/1 [==============================] - 1s 766ms/step - loss: 2.9964 - accuracy: 0.0357 - val_loss: 2.9947 - val_accuracy: 0.0833\n",
      "Epoch 3/50\n",
      "1/1 [==============================] - 1s 757ms/step - loss: 2.9960 - accuracy: 0.0357 - val_loss: 2.9946 - val_accuracy: 0.0833\n",
      "Epoch 4/50\n",
      "1/1 [==============================] - 1s 791ms/step - loss: 2.9963 - accuracy: 0.0625 - val_loss: 2.9942 - val_accuracy: 0.0833\n",
      "Epoch 5/50\n",
      "1/1 [==============================] - 1s 807ms/step - loss: 2.9962 - accuracy: 0.0312 - val_loss: 2.9939 - val_accuracy: 0.0833\n",
      "Epoch 6/50\n",
      "1/1 [==============================] - 1s 799ms/step - loss: 2.9953 - accuracy: 0.0625 - val_loss: 2.9937 - val_accuracy: 0.0833\n",
      "Epoch 7/50\n",
      "1/1 [==============================] - 1s 754ms/step - loss: 2.9963 - accuracy: 0.0357 - val_loss: 2.9936 - val_accuracy: 0.0833\n",
      "Epoch 8/50\n",
      "1/1 [==============================] - 1s 764ms/step - loss: 2.9958 - accuracy: 0.0357 - val_loss: 2.9931 - val_accuracy: 0.0833\n",
      "Epoch 9/50\n",
      "1/1 [==============================] - 1s 780ms/step - loss: 2.9951 - accuracy: 0.0357 - val_loss: 2.9922 - val_accuracy: 0.0833\n",
      "Epoch 10/50\n",
      "1/1 [==============================] - 1s 787ms/step - loss: 2.9951 - accuracy: 0.0625 - val_loss: 2.9908 - val_accuracy: 0.0833\n",
      "Epoch 11/50\n",
      "1/1 [==============================] - 1s 800ms/step - loss: 2.9956 - accuracy: 0.0625 - val_loss: 2.9895 - val_accuracy: 0.0833\n",
      "Epoch 12/50\n",
      "1/1 [==============================] - 1s 788ms/step - loss: 2.9934 - accuracy: 0.0938 - val_loss: 2.9869 - val_accuracy: 0.0833\n",
      "Epoch 13/50\n",
      "1/1 [==============================] - 1s 817ms/step - loss: 2.9915 - accuracy: 0.0938 - val_loss: 2.9827 - val_accuracy: 0.0833\n",
      "Epoch 14/50\n",
      "1/1 [==============================] - 1s 765ms/step - loss: 2.9977 - accuracy: 0.0357 - val_loss: 2.9796 - val_accuracy: 0.0833\n",
      "Epoch 15/50\n",
      "1/1 [==============================] - 1s 763ms/step - loss: 3.0009 - accuracy: 0.0357 - val_loss: 2.9798 - val_accuracy: 0.0833\n",
      "Epoch 16/50\n",
      "1/1 [==============================] - 1s 816ms/step - loss: 2.9876 - accuracy: 0.0625 - val_loss: 2.9768 - val_accuracy: 0.0833\n",
      "Epoch 17/50\n",
      "1/1 [==============================] - 1s 828ms/step - loss: 2.9826 - accuracy: 0.0625 - val_loss: 2.9677 - val_accuracy: 0.0833\n",
      "Epoch 18/50\n",
      "1/1 [==============================] - 1s 773ms/step - loss: 2.9959 - accuracy: 0.0357 - val_loss: 2.9589 - val_accuracy: 0.0833\n",
      "Epoch 19/50\n",
      "1/1 [==============================] - 1s 771ms/step - loss: 2.9885 - accuracy: 0.0357 - val_loss: 2.9498 - val_accuracy: 0.0833\n",
      "Epoch 20/50\n",
      "1/1 [==============================] - 1s 778ms/step - loss: 2.9837 - accuracy: 0.0357 - val_loss: 2.9367 - val_accuracy: 0.0833\n",
      "Epoch 21/50\n",
      "1/1 [==============================] - 1s 787ms/step - loss: 2.9526 - accuracy: 0.0357 - val_loss: 2.9181 - val_accuracy: 0.0833\n",
      "Epoch 22/50\n",
      "1/1 [==============================] - 1s 811ms/step - loss: 3.0227 - accuracy: 0.0625 - val_loss: 2.9252 - val_accuracy: 0.0833\n",
      "Epoch 23/50\n",
      "1/1 [==============================] - 1s 840ms/step - loss: 3.0055 - accuracy: 0.0625 - val_loss: 2.9402 - val_accuracy: 0.0833\n",
      "Epoch 24/50\n",
      "1/1 [==============================] - 1s 780ms/step - loss: 2.9363 - accuracy: 0.0357 - val_loss: 2.9417 - val_accuracy: 0.0833\n",
      "Epoch 25/50\n",
      "1/1 [==============================] - 1s 818ms/step - loss: 2.9625 - accuracy: 0.0625 - val_loss: 2.9406 - val_accuracy: 0.0417\n",
      "Epoch 26/50\n",
      "1/1 [==============================] - 1s 772ms/step - loss: 2.9101 - accuracy: 0.0714 - val_loss: 2.9253 - val_accuracy: 0.0833\n",
      "Epoch 27/50\n",
      "1/1 [==============================] - 1s 823ms/step - loss: 2.9197 - accuracy: 0.0938 - val_loss: 2.9054 - val_accuracy: 0.0833\n",
      "Epoch 28/50\n",
      "1/1 [==============================] - 1s 783ms/step - loss: 2.8196 - accuracy: 0.1071 - val_loss: 2.8734 - val_accuracy: 0.0833\n",
      "Epoch 29/50\n",
      "1/1 [==============================] - 1s 800ms/step - loss: 2.8342 - accuracy: 0.0938 - val_loss: 2.7991 - val_accuracy: 0.0833\n",
      "Epoch 30/50\n",
      "1/1 [==============================] - 1s 766ms/step - loss: 2.7968 - accuracy: 0.1071 - val_loss: 2.6379 - val_accuracy: 0.2917\n",
      "Epoch 31/50\n",
      "1/1 [==============================] - 1s 793ms/step - loss: 2.5903 - accuracy: 0.1562 - val_loss: 2.5285 - val_accuracy: 0.2083\n",
      "Epoch 32/50\n",
      "1/1 [==============================] - 1s 805ms/step - loss: 2.5129 - accuracy: 0.2500 - val_loss: 2.7349 - val_accuracy: 0.2500\n",
      "Epoch 33/50\n",
      "1/1 [==============================] - 1s 780ms/step - loss: 2.5700 - accuracy: 0.2143 - val_loss: 2.5652 - val_accuracy: 0.2917\n",
      "Epoch 34/50\n",
      "1/1 [==============================] - 1s 774ms/step - loss: 2.3845 - accuracy: 0.2143 - val_loss: 2.6651 - val_accuracy: 0.1250\n",
      "Epoch 35/50\n",
      "1/1 [==============================] - 1s 836ms/step - loss: 2.3245 - accuracy: 0.1875 - val_loss: 2.6277 - val_accuracy: 0.2083\n",
      "Epoch 36/50\n",
      "1/1 [==============================] - 1s 794ms/step - loss: 2.2163 - accuracy: 0.2500 - val_loss: 2.4765 - val_accuracy: 0.2500\n",
      "Epoch 37/50\n",
      "1/1 [==============================] - 1s 826ms/step - loss: 2.1644 - accuracy: 0.2812 - val_loss: 2.4393 - val_accuracy: 0.1667\n",
      "Epoch 38/50\n",
      "1/1 [==============================] - 1s 800ms/step - loss: 2.2315 - accuracy: 0.1429 - val_loss: 2.2879 - val_accuracy: 0.3750\n",
      "Epoch 39/50\n",
      "1/1 [==============================] - 1s 825ms/step - loss: 1.7106 - accuracy: 0.4688 - val_loss: 2.2812 - val_accuracy: 0.4583\n",
      "Epoch 40/50\n",
      "1/1 [==============================] - 1s 794ms/step - loss: 1.5567 - accuracy: 0.4375 - val_loss: 2.6980 - val_accuracy: 0.4583\n",
      "Epoch 41/50\n",
      "1/1 [==============================] - 1s 823ms/step - loss: 1.3857 - accuracy: 0.5625 - val_loss: 3.0922 - val_accuracy: 0.5417\n",
      "Epoch 42/50\n",
      "1/1 [==============================] - 1s 811ms/step - loss: 1.5045 - accuracy: 0.5000 - val_loss: 2.9104 - val_accuracy: 0.4167\n",
      "Epoch 43/50\n",
      "1/1 [==============================] - 1s 775ms/step - loss: 2.3344 - accuracy: 0.2857 - val_loss: 2.4959 - val_accuracy: 0.3750\n",
      "Epoch 44/50\n",
      "1/1 [==============================] - 1s 810ms/step - loss: 1.4649 - accuracy: 0.5312 - val_loss: 2.3881 - val_accuracy: 0.5417\n",
      "Epoch 45/50\n",
      "1/1 [==============================] - 1s 761ms/step - loss: 1.9111 - accuracy: 0.4286 - val_loss: 2.5621 - val_accuracy: 0.4583\n",
      "Epoch 46/50\n",
      "1/1 [==============================] - 1s 778ms/step - loss: 1.7548 - accuracy: 0.3571 - val_loss: 2.8657 - val_accuracy: 0.4167\n",
      "Epoch 47/50\n",
      "1/1 [==============================] - 1s 814ms/step - loss: 1.3027 - accuracy: 0.6562 - val_loss: 3.2670 - val_accuracy: 0.5000\n",
      "Epoch 48/50\n",
      "1/1 [==============================] - 1s 794ms/step - loss: 1.1588 - accuracy: 0.7143 - val_loss: 3.8328 - val_accuracy: 0.3750\n",
      "Epoch 49/50\n",
      "1/1 [==============================] - 1s 780ms/step - loss: 0.7382 - accuracy: 0.6786 - val_loss: 4.4577 - val_accuracy: 0.2917\n",
      "Epoch 50/50\n",
      "1/1 [==============================] - 1s 796ms/step - loss: 0.7114 - accuracy: 0.7857 - val_loss: 5.4372 - val_accuracy: 0.2500\n",
      "INFO:tensorflow:Assets written to: palm_epochs50_lr0.0001_batch32\\assets\n"
     ]
    }
   ],
   "source": [
    "epochs = 50\n",
    "list_lr = [0.0001]\n",
    "for lr in list_lr:\n",
    "    save_model_as = \"palm_epochs{}_lr{}_batch{}\"\n",
    "    optimizer = Adam(lr=lr)\n",
    "    model = palm_model()\n",
    "    model.compile(optimizer=optimizer, loss='categorical_crossentropy', metrics=['accuracy'])\n",
    "    history = model.fit(train_generator, epochs=epochs, validation_data=val_generator, steps_per_epoch=1, shuffle=True, validation_steps=3)\n",
    "    model_output = save_model_as.format(epochs, lr, train_batch_size)\n",
    "    model.save(model_output)"
   ]
  },
  {
   "cell_type": "code",
   "execution_count": null,
   "metadata": {},
   "outputs": [],
   "source": []
  }
 ],
 "metadata": {
  "kernelspec": {
   "display_name": "Python (ai)",
   "language": "python",
   "name": "ai"
  },
  "language_info": {
   "codemirror_mode": {
    "name": "ipython",
    "version": 3
   },
   "file_extension": ".py",
   "mimetype": "text/x-python",
   "name": "python",
   "nbconvert_exporter": "python",
   "pygments_lexer": "ipython3",
   "version": "3.7.10"
  }
 },
 "nbformat": 4,
 "nbformat_minor": 4
}
