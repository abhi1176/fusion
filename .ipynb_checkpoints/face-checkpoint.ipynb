{
 "cells": [
  {
   "cell_type": "code",
   "execution_count": 34,
   "metadata": {},
   "outputs": [],
   "source": [
    "import cv2\n",
    "import tensorflow as tf\n",
    "import numpy as np\n",
    "import pandas as pd\n",
    "\n",
    "from tensorflow.keras.layers import Input, Conv2D, MaxPool2D, Dropout, Flatten, Dense\n",
    "from tensorflow.keras.models import Model\n",
    "from tensorflow.keras.preprocessing.image import ImageDataGenerator\n",
    "from tensorflow.keras.optimizers import Adam\n",
    "from tensorflow.keras.utils import to_categorical"
   ]
  },
  {
   "cell_type": "code",
   "execution_count": 35,
   "metadata": {},
   "outputs": [],
   "source": [
    "input_dir = \"face\"\n",
    "image_size = (224, 224)\n",
    "train_batch_size = 32\n",
    "val_batch_size = 8"
   ]
  },
  {
   "cell_type": "code",
   "execution_count": 36,
   "metadata": {},
   "outputs": [],
   "source": [
    "def face_model():\n",
    "    x1 = Input(shape=(224, 224, 3),name='face_input')\n",
    "    x = Conv2D(filters=64,kernel_size=(3,3),padding=\"same\", activation=\"relu\")(x1)\n",
    "    x = Conv2D(filters=64,kernel_size=(3,3),padding=\"same\", activation=\"relu\")(x)\n",
    "    x = MaxPool2D(pool_size=(2,2),strides=(2,2))(x)\n",
    "    x = Conv2D(filters=128, kernel_size=(3,3), padding=\"same\", activation=\"relu\")(x)\n",
    "    x = Conv2D(filters=128, kernel_size=(3,3), padding=\"same\", activation=\"relu\")(x)\n",
    "    x = MaxPool2D(pool_size=(2,2),strides=(2,2))(x)\n",
    "    x = Conv2D(filters=256, kernel_size=(3,3), padding=\"same\", activation=\"relu\")(x)\n",
    "    x = Conv2D(filters=256, kernel_size=(3,3), padding=\"same\", activation=\"relu\")(x)\n",
    "    x = Conv2D(filters=256, kernel_size=(3,3), padding=\"same\", activation=\"relu\")(x)\n",
    "    x = MaxPool2D(pool_size=(2,2),strides=(2,2))(x)\n",
    "    x = Conv2D(filters=512, kernel_size=(3,3), padding=\"same\", activation=\"relu\")(x)\n",
    "    x = Conv2D(filters=512, kernel_size=(3,3), padding=\"same\", activation=\"relu\")(x)\n",
    "    x = Conv2D(filters=512, kernel_size=(3,3), padding=\"same\", activation=\"relu\")(x)\n",
    "    x = MaxPool2D(pool_size=(2,2),strides=(2,2))(x)\n",
    "    x = Conv2D(filters=512, kernel_size=(3,3), padding=\"same\", activation=\"relu\")(x)\n",
    "    x = Conv2D(filters=512, kernel_size=(3,3), padding=\"same\", activation=\"relu\")(x)\n",
    "    x = Conv2D(filters=512, kernel_size=(3,3), padding=\"same\", activation=\"relu\")(x)\n",
    "    x = MaxPool2D(pool_size=(2,2),strides=(2,2),name='face_vgg16')(x)\n",
    "    x = Dropout(0.5)(x)\n",
    "    x = Flatten(name='face_flatten')(x)\n",
    "    x = Dense(256, activation='relu', name='face_fc1')(x)\n",
    "    x = Dense(128, activation='relu', name='face_fc2')(x)\n",
    "    x = Dense(20, activation='softmax',name='face_output')(x)\n",
    "    return Model(inputs=x1, outputs=x)"
   ]
  },
  {
   "cell_type": "code",
   "execution_count": 37,
   "metadata": {},
   "outputs": [],
   "source": [
    "def read_face_img(image_file):\n",
    "    image = cv2.imread(image_file)\n",
    "    image = cv2.resize(image, image_size)\n",
    "    image = image * 1./255\n",
    "    return image.astype(np.float32)"
   ]
  },
  {
   "cell_type": "code",
   "execution_count": 38,
   "metadata": {},
   "outputs": [],
   "source": [
    "def generate_data(csv_file):\n",
    "    def process():\n",
    "        df = pd.read_csv(csv_file)\n",
    "        unique_labels = list(np.unique(df.label))\n",
    "        num_labels = len(unique_labels)\n",
    "        total_rows = df.shape[0]\n",
    "        row_idx = 0\n",
    "        while True:\n",
    "            if row_idx % total_rows == 0:\n",
    "                row_idx = 0\n",
    "                df.sample(frac=1)  # Shuffle dataframe\n",
    "            row = df.iloc[row_idx, :]\n",
    "            row_idx += 1\n",
    "            face = read_face_img(row['face'])\n",
    "            label = to_categorical(unique_labels.index(row['label']), num_classes=num_labels)\n",
    "            yield face, label\n",
    "    return process"
   ]
  },
  {
   "cell_type": "code",
   "execution_count": 39,
   "metadata": {},
   "outputs": [],
   "source": [
    "def data_generator(csv_file, batch_size):\n",
    "    gen = generate_data(csv_file)\n",
    "    dataset = tf.data.Dataset.from_generator(gen,\n",
    "        output_types=(tf.float32, tf.float32),\n",
    "        output_shapes=((224, 224, 3), 20)\n",
    "    )\n",
    "    dataset = dataset.batch(batch_size)\n",
    "    dataset = dataset.prefetch(2)\n",
    "    return dataset"
   ]
  },
  {
   "cell_type": "code",
   "execution_count": 40,
   "metadata": {},
   "outputs": [
    {
     "name": "stdout",
     "output_type": "stream",
     "text": [
      "Train for 50 steps, validate for 40 steps\n",
      "Epoch 1/25\n",
      " 1/50 [..............................] - ETA: 5:14"
     ]
    },
    {
     "ename": "UnknownError",
     "evalue": " Failed to get convolution algorithm. This is probably because cuDNN failed to initialize, so try looking to see if a warning log message was printed above.\n\t [[node model_4/conv2d_52/Conv2D (defined at C:\\Users\\ABHI\\anaconda3\\envs\\ai\\lib\\site-packages\\tensorflow_core\\python\\framework\\ops.py:1751) ]] [Op:__inference_distributed_function_9922]\n\nFunction call stack:\ndistributed_function\n",
     "output_type": "error",
     "traceback": [
      "\u001b[1;31m---------------------------------------------------------------------------\u001b[0m",
      "\u001b[1;31mUnknownError\u001b[0m                              Traceback (most recent call last)",
      "\u001b[1;32m<ipython-input-40-c27ffe15d450>\u001b[0m in \u001b[0;36m<module>\u001b[1;34m\u001b[0m\n\u001b[0;32m     12\u001b[0m                               \u001b[0msteps_per_epoch\u001b[0m\u001b[1;33m=\u001b[0m\u001b[0msteps_per_epoch\u001b[0m\u001b[1;33m,\u001b[0m\u001b[1;33m\u001b[0m\u001b[1;33m\u001b[0m\u001b[0m\n\u001b[0;32m     13\u001b[0m                               \u001b[0mvalidation_data\u001b[0m\u001b[1;33m=\u001b[0m\u001b[0mval_gen\u001b[0m\u001b[1;33m,\u001b[0m\u001b[1;33m\u001b[0m\u001b[1;33m\u001b[0m\u001b[0m\n\u001b[1;32m---> 14\u001b[1;33m                               validation_steps=validation_steps)\n\u001b[0m",
      "\u001b[1;32m~\\anaconda3\\envs\\ai\\lib\\site-packages\\tensorflow_core\\python\\keras\\engine\\training.py\u001b[0m in \u001b[0;36mfit\u001b[1;34m(self, x, y, batch_size, epochs, verbose, callbacks, validation_split, validation_data, shuffle, class_weight, sample_weight, initial_epoch, steps_per_epoch, validation_steps, validation_freq, max_queue_size, workers, use_multiprocessing, **kwargs)\u001b[0m\n\u001b[0;32m    726\u001b[0m         \u001b[0mmax_queue_size\u001b[0m\u001b[1;33m=\u001b[0m\u001b[0mmax_queue_size\u001b[0m\u001b[1;33m,\u001b[0m\u001b[1;33m\u001b[0m\u001b[1;33m\u001b[0m\u001b[0m\n\u001b[0;32m    727\u001b[0m         \u001b[0mworkers\u001b[0m\u001b[1;33m=\u001b[0m\u001b[0mworkers\u001b[0m\u001b[1;33m,\u001b[0m\u001b[1;33m\u001b[0m\u001b[1;33m\u001b[0m\u001b[0m\n\u001b[1;32m--> 728\u001b[1;33m         use_multiprocessing=use_multiprocessing)\n\u001b[0m\u001b[0;32m    729\u001b[0m \u001b[1;33m\u001b[0m\u001b[0m\n\u001b[0;32m    730\u001b[0m   def evaluate(self,\n",
      "\u001b[1;32m~\\anaconda3\\envs\\ai\\lib\\site-packages\\tensorflow_core\\python\\keras\\engine\\training_v2.py\u001b[0m in \u001b[0;36mfit\u001b[1;34m(self, model, x, y, batch_size, epochs, verbose, callbacks, validation_split, validation_data, shuffle, class_weight, sample_weight, initial_epoch, steps_per_epoch, validation_steps, validation_freq, **kwargs)\u001b[0m\n\u001b[0;32m    322\u001b[0m                 \u001b[0mmode\u001b[0m\u001b[1;33m=\u001b[0m\u001b[0mModeKeys\u001b[0m\u001b[1;33m.\u001b[0m\u001b[0mTRAIN\u001b[0m\u001b[1;33m,\u001b[0m\u001b[1;33m\u001b[0m\u001b[1;33m\u001b[0m\u001b[0m\n\u001b[0;32m    323\u001b[0m                 \u001b[0mtraining_context\u001b[0m\u001b[1;33m=\u001b[0m\u001b[0mtraining_context\u001b[0m\u001b[1;33m,\u001b[0m\u001b[1;33m\u001b[0m\u001b[1;33m\u001b[0m\u001b[0m\n\u001b[1;32m--> 324\u001b[1;33m                 total_epochs=epochs)\n\u001b[0m\u001b[0;32m    325\u001b[0m             \u001b[0mcbks\u001b[0m\u001b[1;33m.\u001b[0m\u001b[0mmake_logs\u001b[0m\u001b[1;33m(\u001b[0m\u001b[0mmodel\u001b[0m\u001b[1;33m,\u001b[0m \u001b[0mepoch_logs\u001b[0m\u001b[1;33m,\u001b[0m \u001b[0mtraining_result\u001b[0m\u001b[1;33m,\u001b[0m \u001b[0mModeKeys\u001b[0m\u001b[1;33m.\u001b[0m\u001b[0mTRAIN\u001b[0m\u001b[1;33m)\u001b[0m\u001b[1;33m\u001b[0m\u001b[1;33m\u001b[0m\u001b[0m\n\u001b[0;32m    326\u001b[0m \u001b[1;33m\u001b[0m\u001b[0m\n",
      "\u001b[1;32m~\\anaconda3\\envs\\ai\\lib\\site-packages\\tensorflow_core\\python\\keras\\engine\\training_v2.py\u001b[0m in \u001b[0;36mrun_one_epoch\u001b[1;34m(model, iterator, execution_function, dataset_size, batch_size, strategy, steps_per_epoch, num_samples, mode, training_context, total_epochs)\u001b[0m\n\u001b[0;32m    121\u001b[0m         step=step, mode=mode, size=current_batch_size) as batch_logs:\n\u001b[0;32m    122\u001b[0m       \u001b[1;32mtry\u001b[0m\u001b[1;33m:\u001b[0m\u001b[1;33m\u001b[0m\u001b[1;33m\u001b[0m\u001b[0m\n\u001b[1;32m--> 123\u001b[1;33m         \u001b[0mbatch_outs\u001b[0m \u001b[1;33m=\u001b[0m \u001b[0mexecution_function\u001b[0m\u001b[1;33m(\u001b[0m\u001b[0miterator\u001b[0m\u001b[1;33m)\u001b[0m\u001b[1;33m\u001b[0m\u001b[1;33m\u001b[0m\u001b[0m\n\u001b[0m\u001b[0;32m    124\u001b[0m       \u001b[1;32mexcept\u001b[0m \u001b[1;33m(\u001b[0m\u001b[0mStopIteration\u001b[0m\u001b[1;33m,\u001b[0m \u001b[0merrors\u001b[0m\u001b[1;33m.\u001b[0m\u001b[0mOutOfRangeError\u001b[0m\u001b[1;33m)\u001b[0m\u001b[1;33m:\u001b[0m\u001b[1;33m\u001b[0m\u001b[1;33m\u001b[0m\u001b[0m\n\u001b[0;32m    125\u001b[0m         \u001b[1;31m# TODO(kaftan): File bug about tf function and errors.OutOfRangeError?\u001b[0m\u001b[1;33m\u001b[0m\u001b[1;33m\u001b[0m\u001b[1;33m\u001b[0m\u001b[0m\n",
      "\u001b[1;32m~\\anaconda3\\envs\\ai\\lib\\site-packages\\tensorflow_core\\python\\keras\\engine\\training_v2_utils.py\u001b[0m in \u001b[0;36mexecution_function\u001b[1;34m(input_fn)\u001b[0m\n\u001b[0;32m     84\u001b[0m     \u001b[1;31m# `numpy` translates Tensors to values in Eager mode.\u001b[0m\u001b[1;33m\u001b[0m\u001b[1;33m\u001b[0m\u001b[1;33m\u001b[0m\u001b[0m\n\u001b[0;32m     85\u001b[0m     return nest.map_structure(_non_none_constant_value,\n\u001b[1;32m---> 86\u001b[1;33m                               distributed_function(input_fn))\n\u001b[0m\u001b[0;32m     87\u001b[0m \u001b[1;33m\u001b[0m\u001b[0m\n\u001b[0;32m     88\u001b[0m   \u001b[1;32mreturn\u001b[0m \u001b[0mexecution_function\u001b[0m\u001b[1;33m\u001b[0m\u001b[1;33m\u001b[0m\u001b[0m\n",
      "\u001b[1;32m~\\anaconda3\\envs\\ai\\lib\\site-packages\\tensorflow_core\\python\\eager\\def_function.py\u001b[0m in \u001b[0;36m__call__\u001b[1;34m(self, *args, **kwds)\u001b[0m\n\u001b[0;32m    455\u001b[0m \u001b[1;33m\u001b[0m\u001b[0m\n\u001b[0;32m    456\u001b[0m     \u001b[0mtracing_count\u001b[0m \u001b[1;33m=\u001b[0m \u001b[0mself\u001b[0m\u001b[1;33m.\u001b[0m\u001b[0m_get_tracing_count\u001b[0m\u001b[1;33m(\u001b[0m\u001b[1;33m)\u001b[0m\u001b[1;33m\u001b[0m\u001b[1;33m\u001b[0m\u001b[0m\n\u001b[1;32m--> 457\u001b[1;33m     \u001b[0mresult\u001b[0m \u001b[1;33m=\u001b[0m \u001b[0mself\u001b[0m\u001b[1;33m.\u001b[0m\u001b[0m_call\u001b[0m\u001b[1;33m(\u001b[0m\u001b[1;33m*\u001b[0m\u001b[0margs\u001b[0m\u001b[1;33m,\u001b[0m \u001b[1;33m**\u001b[0m\u001b[0mkwds\u001b[0m\u001b[1;33m)\u001b[0m\u001b[1;33m\u001b[0m\u001b[1;33m\u001b[0m\u001b[0m\n\u001b[0m\u001b[0;32m    458\u001b[0m     \u001b[1;32mif\u001b[0m \u001b[0mtracing_count\u001b[0m \u001b[1;33m==\u001b[0m \u001b[0mself\u001b[0m\u001b[1;33m.\u001b[0m\u001b[0m_get_tracing_count\u001b[0m\u001b[1;33m(\u001b[0m\u001b[1;33m)\u001b[0m\u001b[1;33m:\u001b[0m\u001b[1;33m\u001b[0m\u001b[1;33m\u001b[0m\u001b[0m\n\u001b[0;32m    459\u001b[0m       \u001b[0mself\u001b[0m\u001b[1;33m.\u001b[0m\u001b[0m_call_counter\u001b[0m\u001b[1;33m.\u001b[0m\u001b[0mcalled_without_tracing\u001b[0m\u001b[1;33m(\u001b[0m\u001b[1;33m)\u001b[0m\u001b[1;33m\u001b[0m\u001b[1;33m\u001b[0m\u001b[0m\n",
      "\u001b[1;32m~\\anaconda3\\envs\\ai\\lib\\site-packages\\tensorflow_core\\python\\eager\\def_function.py\u001b[0m in \u001b[0;36m_call\u001b[1;34m(self, *args, **kwds)\u001b[0m\n\u001b[0;32m    518\u001b[0m         \u001b[1;31m# Lifting succeeded, so variables are initialized and we can run the\u001b[0m\u001b[1;33m\u001b[0m\u001b[1;33m\u001b[0m\u001b[1;33m\u001b[0m\u001b[0m\n\u001b[0;32m    519\u001b[0m         \u001b[1;31m# stateless function.\u001b[0m\u001b[1;33m\u001b[0m\u001b[1;33m\u001b[0m\u001b[1;33m\u001b[0m\u001b[0m\n\u001b[1;32m--> 520\u001b[1;33m         \u001b[1;32mreturn\u001b[0m \u001b[0mself\u001b[0m\u001b[1;33m.\u001b[0m\u001b[0m_stateless_fn\u001b[0m\u001b[1;33m(\u001b[0m\u001b[1;33m*\u001b[0m\u001b[0margs\u001b[0m\u001b[1;33m,\u001b[0m \u001b[1;33m**\u001b[0m\u001b[0mkwds\u001b[0m\u001b[1;33m)\u001b[0m\u001b[1;33m\u001b[0m\u001b[1;33m\u001b[0m\u001b[0m\n\u001b[0m\u001b[0;32m    521\u001b[0m     \u001b[1;32melse\u001b[0m\u001b[1;33m:\u001b[0m\u001b[1;33m\u001b[0m\u001b[1;33m\u001b[0m\u001b[0m\n\u001b[0;32m    522\u001b[0m       \u001b[0mcanon_args\u001b[0m\u001b[1;33m,\u001b[0m \u001b[0mcanon_kwds\u001b[0m \u001b[1;33m=\u001b[0m\u001b[0;31m \u001b[0m\u001b[0;31m\\\u001b[0m\u001b[1;33m\u001b[0m\u001b[1;33m\u001b[0m\u001b[0m\n",
      "\u001b[1;32m~\\anaconda3\\envs\\ai\\lib\\site-packages\\tensorflow_core\\python\\eager\\function.py\u001b[0m in \u001b[0;36m__call__\u001b[1;34m(self, *args, **kwargs)\u001b[0m\n\u001b[0;32m   1821\u001b[0m     \u001b[1;34m\"\"\"Calls a graph function specialized to the inputs.\"\"\"\u001b[0m\u001b[1;33m\u001b[0m\u001b[1;33m\u001b[0m\u001b[0m\n\u001b[0;32m   1822\u001b[0m     \u001b[0mgraph_function\u001b[0m\u001b[1;33m,\u001b[0m \u001b[0margs\u001b[0m\u001b[1;33m,\u001b[0m \u001b[0mkwargs\u001b[0m \u001b[1;33m=\u001b[0m \u001b[0mself\u001b[0m\u001b[1;33m.\u001b[0m\u001b[0m_maybe_define_function\u001b[0m\u001b[1;33m(\u001b[0m\u001b[0margs\u001b[0m\u001b[1;33m,\u001b[0m \u001b[0mkwargs\u001b[0m\u001b[1;33m)\u001b[0m\u001b[1;33m\u001b[0m\u001b[1;33m\u001b[0m\u001b[0m\n\u001b[1;32m-> 1823\u001b[1;33m     \u001b[1;32mreturn\u001b[0m \u001b[0mgraph_function\u001b[0m\u001b[1;33m.\u001b[0m\u001b[0m_filtered_call\u001b[0m\u001b[1;33m(\u001b[0m\u001b[0margs\u001b[0m\u001b[1;33m,\u001b[0m \u001b[0mkwargs\u001b[0m\u001b[1;33m)\u001b[0m  \u001b[1;31m# pylint: disable=protected-access\u001b[0m\u001b[1;33m\u001b[0m\u001b[1;33m\u001b[0m\u001b[0m\n\u001b[0m\u001b[0;32m   1824\u001b[0m \u001b[1;33m\u001b[0m\u001b[0m\n\u001b[0;32m   1825\u001b[0m   \u001b[1;33m@\u001b[0m\u001b[0mproperty\u001b[0m\u001b[1;33m\u001b[0m\u001b[1;33m\u001b[0m\u001b[0m\n",
      "\u001b[1;32m~\\anaconda3\\envs\\ai\\lib\\site-packages\\tensorflow_core\\python\\eager\\function.py\u001b[0m in \u001b[0;36m_filtered_call\u001b[1;34m(self, args, kwargs)\u001b[0m\n\u001b[0;32m   1139\u001b[0m          if isinstance(t, (ops.Tensor,\n\u001b[0;32m   1140\u001b[0m                            resource_variable_ops.BaseResourceVariable))),\n\u001b[1;32m-> 1141\u001b[1;33m         self.captured_inputs)\n\u001b[0m\u001b[0;32m   1142\u001b[0m \u001b[1;33m\u001b[0m\u001b[0m\n\u001b[0;32m   1143\u001b[0m   \u001b[1;32mdef\u001b[0m \u001b[0m_call_flat\u001b[0m\u001b[1;33m(\u001b[0m\u001b[0mself\u001b[0m\u001b[1;33m,\u001b[0m \u001b[0margs\u001b[0m\u001b[1;33m,\u001b[0m \u001b[0mcaptured_inputs\u001b[0m\u001b[1;33m,\u001b[0m \u001b[0mcancellation_manager\u001b[0m\u001b[1;33m=\u001b[0m\u001b[1;32mNone\u001b[0m\u001b[1;33m)\u001b[0m\u001b[1;33m:\u001b[0m\u001b[1;33m\u001b[0m\u001b[1;33m\u001b[0m\u001b[0m\n",
      "\u001b[1;32m~\\anaconda3\\envs\\ai\\lib\\site-packages\\tensorflow_core\\python\\eager\\function.py\u001b[0m in \u001b[0;36m_call_flat\u001b[1;34m(self, args, captured_inputs, cancellation_manager)\u001b[0m\n\u001b[0;32m   1222\u001b[0m     \u001b[1;32mif\u001b[0m \u001b[0mexecuting_eagerly\u001b[0m\u001b[1;33m:\u001b[0m\u001b[1;33m\u001b[0m\u001b[1;33m\u001b[0m\u001b[0m\n\u001b[0;32m   1223\u001b[0m       flat_outputs = forward_function.call(\n\u001b[1;32m-> 1224\u001b[1;33m           ctx, args, cancellation_manager=cancellation_manager)\n\u001b[0m\u001b[0;32m   1225\u001b[0m     \u001b[1;32melse\u001b[0m\u001b[1;33m:\u001b[0m\u001b[1;33m\u001b[0m\u001b[1;33m\u001b[0m\u001b[0m\n\u001b[0;32m   1226\u001b[0m       \u001b[0mgradient_name\u001b[0m \u001b[1;33m=\u001b[0m \u001b[0mself\u001b[0m\u001b[1;33m.\u001b[0m\u001b[0m_delayed_rewrite_functions\u001b[0m\u001b[1;33m.\u001b[0m\u001b[0mregister\u001b[0m\u001b[1;33m(\u001b[0m\u001b[1;33m)\u001b[0m\u001b[1;33m\u001b[0m\u001b[1;33m\u001b[0m\u001b[0m\n",
      "\u001b[1;32m~\\anaconda3\\envs\\ai\\lib\\site-packages\\tensorflow_core\\python\\eager\\function.py\u001b[0m in \u001b[0;36mcall\u001b[1;34m(self, ctx, args, cancellation_manager)\u001b[0m\n\u001b[0;32m    509\u001b[0m               \u001b[0minputs\u001b[0m\u001b[1;33m=\u001b[0m\u001b[0margs\u001b[0m\u001b[1;33m,\u001b[0m\u001b[1;33m\u001b[0m\u001b[1;33m\u001b[0m\u001b[0m\n\u001b[0;32m    510\u001b[0m               \u001b[0mattrs\u001b[0m\u001b[1;33m=\u001b[0m\u001b[1;33m(\u001b[0m\u001b[1;34m\"executor_type\"\u001b[0m\u001b[1;33m,\u001b[0m \u001b[0mexecutor_type\u001b[0m\u001b[1;33m,\u001b[0m \u001b[1;34m\"config_proto\"\u001b[0m\u001b[1;33m,\u001b[0m \u001b[0mconfig\u001b[0m\u001b[1;33m)\u001b[0m\u001b[1;33m,\u001b[0m\u001b[1;33m\u001b[0m\u001b[1;33m\u001b[0m\u001b[0m\n\u001b[1;32m--> 511\u001b[1;33m               ctx=ctx)\n\u001b[0m\u001b[0;32m    512\u001b[0m         \u001b[1;32melse\u001b[0m\u001b[1;33m:\u001b[0m\u001b[1;33m\u001b[0m\u001b[1;33m\u001b[0m\u001b[0m\n\u001b[0;32m    513\u001b[0m           outputs = execute.execute_with_cancellation(\n",
      "\u001b[1;32m~\\anaconda3\\envs\\ai\\lib\\site-packages\\tensorflow_core\\python\\eager\\execute.py\u001b[0m in \u001b[0;36mquick_execute\u001b[1;34m(op_name, num_outputs, inputs, attrs, ctx, name)\u001b[0m\n\u001b[0;32m     65\u001b[0m     \u001b[1;32melse\u001b[0m\u001b[1;33m:\u001b[0m\u001b[1;33m\u001b[0m\u001b[1;33m\u001b[0m\u001b[0m\n\u001b[0;32m     66\u001b[0m       \u001b[0mmessage\u001b[0m \u001b[1;33m=\u001b[0m \u001b[0me\u001b[0m\u001b[1;33m.\u001b[0m\u001b[0mmessage\u001b[0m\u001b[1;33m\u001b[0m\u001b[1;33m\u001b[0m\u001b[0m\n\u001b[1;32m---> 67\u001b[1;33m     \u001b[0msix\u001b[0m\u001b[1;33m.\u001b[0m\u001b[0mraise_from\u001b[0m\u001b[1;33m(\u001b[0m\u001b[0mcore\u001b[0m\u001b[1;33m.\u001b[0m\u001b[0m_status_to_exception\u001b[0m\u001b[1;33m(\u001b[0m\u001b[0me\u001b[0m\u001b[1;33m.\u001b[0m\u001b[0mcode\u001b[0m\u001b[1;33m,\u001b[0m \u001b[0mmessage\u001b[0m\u001b[1;33m)\u001b[0m\u001b[1;33m,\u001b[0m \u001b[1;32mNone\u001b[0m\u001b[1;33m)\u001b[0m\u001b[1;33m\u001b[0m\u001b[1;33m\u001b[0m\u001b[0m\n\u001b[0m\u001b[0;32m     68\u001b[0m   \u001b[1;32mexcept\u001b[0m \u001b[0mTypeError\u001b[0m \u001b[1;32mas\u001b[0m \u001b[0me\u001b[0m\u001b[1;33m:\u001b[0m\u001b[1;33m\u001b[0m\u001b[1;33m\u001b[0m\u001b[0m\n\u001b[0;32m     69\u001b[0m     keras_symbolic_tensors = [\n",
      "\u001b[1;32m~\\anaconda3\\envs\\ai\\lib\\site-packages\\six.py\u001b[0m in \u001b[0;36mraise_from\u001b[1;34m(value, from_value)\u001b[0m\n",
      "\u001b[1;31mUnknownError\u001b[0m:  Failed to get convolution algorithm. This is probably because cuDNN failed to initialize, so try looking to see if a warning log message was printed above.\n\t [[node model_4/conv2d_52/Conv2D (defined at C:\\Users\\ABHI\\anaconda3\\envs\\ai\\lib\\site-packages\\tensorflow_core\\python\\framework\\ops.py:1751) ]] [Op:__inference_distributed_function_9922]\n\nFunction call stack:\ndistributed_function\n"
     ]
    }
   ],
   "source": [
    "lr = 0.0001\n",
    "num_train_samples = pd.read_csv('train.csv').shape[0]\n",
    "num_val_samples = pd.read_csv('val.csv').shape[0]\n",
    "steps_per_epoch = num_train_samples//train_batch_size\n",
    "validation_steps = num_val_samples//val_batch_size\n",
    "\n",
    "train_gen = data_generator('train.csv', batch_size=train_batch_size)\n",
    "val_gen = data_generator('val.csv', batch_size=val_batch_size)\n",
    "model = face_model()\n",
    "model.compile(optimizer=Adam(lr=lr), loss='categorical_crossentropy', metrics=['accuracy'])\n",
    "history = model.fit(train_gen, epochs=25,\n",
    "                    steps_per_epoch=steps_per_epoch,\n",
    "                    validation_data=val_gen,\n",
    "                    validation_steps=validation_steps)"
   ]
  },
  {
   "cell_type": "code",
   "execution_count": 4,
   "metadata": {},
   "outputs": [
    {
     "name": "stdout",
     "output_type": "stream",
     "text": [
      "Found 60 images belonging to 20 classes.\n",
      "Found 40 images belonging to 20 classes.\n"
     ]
    }
   ],
   "source": [
    "datagen = ImageDataGenerator(validation_split=0.4, rescale=1./255)\n",
    "train_generator = datagen.flow_from_directory(input_dir, subset='training', target_size=image_size,\n",
    "                                              batch_size=train_batch_size, shuffle=True, class_mode='categorical')\n",
    "val_generator = datagen.flow_from_directory(input_dir, subset='validation', target_size=image_size,\n",
    "                                            batch_size=val_batch_size, shuffle=False, class_mode='categorical')"
   ]
  },
  {
   "cell_type": "code",
   "execution_count": 10,
   "metadata": {},
   "outputs": [
    {
     "name": "stdout",
     "output_type": "stream",
     "text": [
      "Train for 2 steps, validate for 3 steps\n",
      "Epoch 1/50\n",
      "2/2 [==============================] - 10s 5s/step - loss: 2.9960 - accuracy: 0.0667 - val_loss: 2.9962 - val_accuracy: 0.0000e+00\n",
      "Epoch 2/50\n",
      "2/2 [==============================] - 7s 3s/step - loss: 2.9952 - accuracy: 0.0667 - val_loss: 2.9953 - val_accuracy: 0.0833\n",
      "Epoch 3/50\n",
      "2/2 [==============================] - 7s 3s/step - loss: 2.9958 - accuracy: 0.0333 - val_loss: 2.9955 - val_accuracy: 0.0833\n",
      "Epoch 4/50\n",
      "2/2 [==============================] - 7s 3s/step - loss: 2.9960 - accuracy: 0.0500 - val_loss: 2.9953 - val_accuracy: 0.1250\n",
      "Epoch 5/50\n",
      "2/2 [==============================] - 7s 3s/step - loss: 2.9933 - accuracy: 0.0500 - val_loss: 2.9941 - val_accuracy: 0.0833\n",
      "Epoch 6/50\n",
      "2/2 [==============================] - 6s 3s/step - loss: 2.9904 - accuracy: 0.1000 - val_loss: 2.9897 - val_accuracy: 0.0833\n",
      "Epoch 7/50\n",
      "2/2 [==============================] - 6s 3s/step - loss: 2.9910 - accuracy: 0.1000 - val_loss: 2.9861 - val_accuracy: 0.1250\n",
      "Epoch 8/50\n",
      "2/2 [==============================] - 6s 3s/step - loss: 2.9865 - accuracy: 0.0667 - val_loss: 2.9842 - val_accuracy: 0.0833\n",
      "Epoch 9/50\n",
      "2/2 [==============================] - 6s 3s/step - loss: 2.9680 - accuracy: 0.1333 - val_loss: 2.9684 - val_accuracy: 0.0833\n",
      "Epoch 10/50\n",
      "2/2 [==============================] - 7s 3s/step - loss: 2.9568 - accuracy: 0.1000 - val_loss: 2.9352 - val_accuracy: 0.0833\n",
      "Epoch 11/50\n",
      "2/2 [==============================] - 6s 3s/step - loss: 2.9409 - accuracy: 0.0667 - val_loss: 2.9065 - val_accuracy: 0.1667\n",
      "Epoch 12/50\n",
      "2/2 [==============================] - 5s 2s/step - loss: 2.8392 - accuracy: 0.0500 - val_loss: 2.8776 - val_accuracy: 0.0833\n",
      "Epoch 13/50\n",
      "2/2 [==============================] - 1s 666ms/step - loss: 2.7964 - accuracy: 0.1000 - val_loss: 2.7363 - val_accuracy: 0.0417\n",
      "Epoch 14/50\n",
      "2/2 [==============================] - 1s 647ms/step - loss: 2.6477 - accuracy: 0.2167 - val_loss: 2.6781 - val_accuracy: 0.3333\n",
      "Epoch 15/50\n",
      "2/2 [==============================] - 1s 663ms/step - loss: 2.7014 - accuracy: 0.1667 - val_loss: 2.7381 - val_accuracy: 0.1667\n",
      "Epoch 16/50\n",
      "2/2 [==============================] - 1s 662ms/step - loss: 2.6717 - accuracy: 0.2333 - val_loss: 2.7344 - val_accuracy: 0.1667\n",
      "Epoch 17/50\n",
      "2/2 [==============================] - 1s 695ms/step - loss: 2.4863 - accuracy: 0.1500 - val_loss: 2.4958 - val_accuracy: 0.1250\n",
      "Epoch 18/50\n",
      "2/2 [==============================] - 1s 685ms/step - loss: 2.0894 - accuracy: 0.3667 - val_loss: 2.6216 - val_accuracy: 0.2500\n",
      "Epoch 19/50\n",
      "2/2 [==============================] - 1s 682ms/step - loss: 1.9183 - accuracy: 0.3500 - val_loss: 2.6348 - val_accuracy: 0.2083\n",
      "Epoch 20/50\n",
      "2/2 [==============================] - 1s 683ms/step - loss: 1.9294 - accuracy: 0.3500 - val_loss: 2.3265 - val_accuracy: 0.5000\n",
      "Epoch 21/50\n",
      "2/2 [==============================] - 1s 672ms/step - loss: 1.5140 - accuracy: 0.5667 - val_loss: 2.1639 - val_accuracy: 0.3333\n",
      "Epoch 22/50\n",
      "2/2 [==============================] - 1s 660ms/step - loss: 1.4952 - accuracy: 0.5833 - val_loss: 2.8374 - val_accuracy: 0.4167\n",
      "Epoch 23/50\n",
      "2/2 [==============================] - 1s 637ms/step - loss: 1.1251 - accuracy: 0.5333 - val_loss: 3.3140 - val_accuracy: 0.4167\n",
      "Epoch 24/50\n",
      "2/2 [==============================] - 1s 647ms/step - loss: 1.1559 - accuracy: 0.6500 - val_loss: 3.3950 - val_accuracy: 0.4583\n",
      "Epoch 25/50\n",
      "2/2 [==============================] - 1s 654ms/step - loss: 0.9041 - accuracy: 0.7333 - val_loss: 3.3121 - val_accuracy: 0.4583\n",
      "Epoch 26/50\n",
      "2/2 [==============================] - 1s 659ms/step - loss: 0.7775 - accuracy: 0.7500 - val_loss: 2.8808 - val_accuracy: 0.3750\n",
      "Epoch 27/50\n",
      "2/2 [==============================] - 1s 639ms/step - loss: 0.7708 - accuracy: 0.7167 - val_loss: 2.4602 - val_accuracy: 0.4583\n",
      "Epoch 28/50\n",
      "2/2 [==============================] - 1s 650ms/step - loss: 0.6883 - accuracy: 0.7833 - val_loss: 2.4513 - val_accuracy: 0.4583\n",
      "Epoch 29/50\n",
      "2/2 [==============================] - 1s 662ms/step - loss: 0.3853 - accuracy: 0.8667 - val_loss: 3.1193 - val_accuracy: 0.4167\n",
      "Epoch 30/50\n",
      "2/2 [==============================] - 1s 667ms/step - loss: 0.4513 - accuracy: 0.8333 - val_loss: 3.8393 - val_accuracy: 0.4167\n",
      "Epoch 31/50\n",
      "2/2 [==============================] - 1s 643ms/step - loss: 0.3605 - accuracy: 0.8333 - val_loss: 4.7853 - val_accuracy: 0.4167\n",
      "Epoch 32/50\n",
      "2/2 [==============================] - 1s 662ms/step - loss: 0.3036 - accuracy: 0.8667 - val_loss: 5.0048 - val_accuracy: 0.4167\n",
      "Epoch 33/50\n",
      "2/2 [==============================] - 1s 664ms/step - loss: 0.3736 - accuracy: 0.9167 - val_loss: 4.5267 - val_accuracy: 0.5000\n",
      "Epoch 34/50\n",
      "2/2 [==============================] - 1s 667ms/step - loss: 0.6391 - accuracy: 0.8333 - val_loss: 3.1967 - val_accuracy: 0.3750\n",
      "Epoch 35/50\n",
      "2/2 [==============================] - 1s 644ms/step - loss: 0.4832 - accuracy: 0.8500 - val_loss: 2.8169 - val_accuracy: 0.5000\n",
      "Epoch 36/50\n",
      "2/2 [==============================] - 1s 633ms/step - loss: 0.3810 - accuracy: 0.8667 - val_loss: 2.3479 - val_accuracy: 0.4583\n",
      "Epoch 37/50\n",
      "2/2 [==============================] - 1s 636ms/step - loss: 0.2687 - accuracy: 0.9333 - val_loss: 2.5484 - val_accuracy: 0.5417\n",
      "Epoch 38/50\n",
      "2/2 [==============================] - 1s 644ms/step - loss: 0.1380 - accuracy: 1.0000 - val_loss: 3.2659 - val_accuracy: 0.5417\n",
      "Epoch 39/50\n",
      "2/2 [==============================] - 1s 645ms/step - loss: 0.1354 - accuracy: 0.9500 - val_loss: 3.8869 - val_accuracy: 0.5000\n",
      "Epoch 40/50\n",
      "2/2 [==============================] - 1s 657ms/step - loss: 0.1588 - accuracy: 0.9500 - val_loss: 4.7204 - val_accuracy: 0.5417\n",
      "Epoch 41/50\n",
      "2/2 [==============================] - 1s 634ms/step - loss: 0.0799 - accuracy: 0.9833 - val_loss: 5.8348 - val_accuracy: 0.5000\n",
      "Epoch 42/50\n",
      "2/2 [==============================] - 1s 644ms/step - loss: 0.1185 - accuracy: 0.9500 - val_loss: 5.3552 - val_accuracy: 0.5833\n",
      "Epoch 43/50\n",
      "2/2 [==============================] - 1s 659ms/step - loss: 0.0290 - accuracy: 0.9833 - val_loss: 5.6573 - val_accuracy: 0.5417\n",
      "Epoch 44/50\n",
      "2/2 [==============================] - 1s 642ms/step - loss: 0.4592 - accuracy: 0.9000 - val_loss: 5.9480 - val_accuracy: 0.5833\n",
      "Epoch 45/50\n",
      "2/2 [==============================] - 1s 650ms/step - loss: 0.0709 - accuracy: 0.9833 - val_loss: 6.4966 - val_accuracy: 0.5417\n",
      "Epoch 46/50\n",
      "2/2 [==============================] - 1s 650ms/step - loss: 0.2076 - accuracy: 0.9333 - val_loss: 5.0823 - val_accuracy: 0.5417\n",
      "Epoch 47/50\n",
      "2/2 [==============================] - 1s 653ms/step - loss: 0.0534 - accuracy: 0.9833 - val_loss: 4.3520 - val_accuracy: 0.5000\n",
      "Epoch 48/50\n",
      "2/2 [==============================] - 1s 659ms/step - loss: 0.1726 - accuracy: 0.9500 - val_loss: 3.7152 - val_accuracy: 0.5417\n",
      "Epoch 49/50\n",
      "2/2 [==============================] - 1s 643ms/step - loss: 0.0694 - accuracy: 0.9667 - val_loss: 3.4496 - val_accuracy: 0.5417\n",
      "Epoch 50/50\n",
      "2/2 [==============================] - 1s 648ms/step - loss: 0.0501 - accuracy: 0.9833 - val_loss: 3.2267 - val_accuracy: 0.5000\n",
      "WARNING:tensorflow:From C:\\Users\\ABHI\\anaconda3\\envs\\ai\\lib\\site-packages\\tensorflow_core\\python\\ops\\resource_variable_ops.py:1781: calling BaseResourceVariable.__init__ (from tensorflow.python.ops.resource_variable_ops) with constraint is deprecated and will be removed in a future version.\n",
      "Instructions for updating:\n",
      "If using Keras pass *_constraint arguments to layers.\n",
      "INFO:tensorflow:Assets written to: palm_epochs50_lr0.0001_batch32\\assets\n"
     ]
    }
   ],
   "source": [
    "epochs = 50\n",
    "lr = 0.0001\n",
    "save_model_as = \"face_epochs{}_lr{}_batch{}\"\n",
    "optimizer = Adam(lr=lr)\n",
    "model = face_model()\n",
    "model.compile(optimizer=optimizer, loss='categorical_crossentropy', metrics=['accuracy'])\n",
    "history = model.fit(train_generator, epochs=epochs, validation_data=val_generator, steps_per_epoch=2, validation_steps=3)\n",
    "model_output = save_model_as.format(epochs, lr, train_batch_size)\n",
    "model.save(model_output)"
   ]
  },
  {
   "cell_type": "code",
   "execution_count": null,
   "metadata": {},
   "outputs": [],
   "source": []
  }
 ],
 "metadata": {
  "kernelspec": {
   "display_name": "Python (ai)",
   "language": "python",
   "name": "ai"
  },
  "language_info": {
   "codemirror_mode": {
    "name": "ipython",
    "version": 3
   },
   "file_extension": ".py",
   "mimetype": "text/x-python",
   "name": "python",
   "nbconvert_exporter": "python",
   "pygments_lexer": "ipython3",
   "version": "3.7.10"
  }
 },
 "nbformat": 4,
 "nbformat_minor": 4
}
